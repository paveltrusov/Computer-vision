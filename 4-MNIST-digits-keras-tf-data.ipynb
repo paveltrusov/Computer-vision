{
 "cells": [
  {
   "cell_type": "code",
   "execution_count": 1,
   "id": "5a086a71",
   "metadata": {
    "_cell_guid": "b1076dfc-b9ad-4769-8c92-a6c4dae69d19",
    "_uuid": "8f2839f25d086af736a60e9eeb907d3b93b6e0e5",
    "execution": {
     "iopub.execute_input": "2022-03-22T12:41:38.630161Z",
     "iopub.status.busy": "2022-03-22T12:41:38.629168Z",
     "iopub.status.idle": "2022-03-22T12:41:44.853627Z",
     "shell.execute_reply": "2022-03-22T12:41:44.852927Z"
    },
    "papermill": {
     "duration": 6.254918,
     "end_time": "2022-03-22T12:41:44.853840",
     "exception": false,
     "start_time": "2022-03-22T12:41:38.598922",
     "status": "completed"
    },
    "tags": []
   },
   "outputs": [],
   "source": [
    "import numpy as np\n",
    "from numpy.random import seed\n",
    "import pandas as pd\n",
    "import matplotlib.pyplot as plt\n",
    "import time\n",
    "\n",
    "import tensorflow as tf\n",
    "from tensorflow import keras\n",
    "from tensorflow.keras.layers import Input\n",
    "from tensorflow.keras.layers import Conv2D\n",
    "from tensorflow.keras.layers import MaxPooling2D\n",
    "from tensorflow.keras.layers import BatchNormalization\n",
    "from tensorflow.keras.layers import Flatten\n",
    "from tensorflow.keras.layers import Dense\n",
    "from tensorflow.keras.layers import Dropout\n",
    "\n",
    "from tensorflow.data import AUTOTUNE\n",
    "from tensorflow.keras.utils import to_categorical\n",
    "from tensorflow.keras.preprocessing.image import ImageDataGenerator\n",
    "from tensorflow.random import set_seed\n",
    "from keras.callbacks import EarlyStopping, LearningRateScheduler"
   ]
  },
  {
   "cell_type": "code",
   "execution_count": 2,
   "id": "38e77b42",
   "metadata": {
    "execution": {
     "iopub.execute_input": "2022-03-22T12:41:44.899476Z",
     "iopub.status.busy": "2022-03-22T12:41:44.898648Z",
     "iopub.status.idle": "2022-03-22T12:41:51.424786Z",
     "shell.execute_reply": "2022-03-22T12:41:51.423962Z"
    },
    "papermill": {
     "duration": 6.550169,
     "end_time": "2022-03-22T12:41:51.425034",
     "exception": false,
     "start_time": "2022-03-22T12:41:44.874865",
     "status": "completed"
    },
    "tags": []
   },
   "outputs": [
    {
     "name": "stdout",
     "output_type": "stream",
     "text": [
      "(42000, 785) (28000, 784)\n"
     ]
    }
   ],
   "source": [
    "train = pd.read_csv('../input/digit-recognizer/train.csv').to_numpy()\n",
    "test = pd.read_csv('../input/digit-recognizer/test.csv').to_numpy()\n",
    "print(train.shape, test.shape)"
   ]
  },
  {
   "cell_type": "code",
   "execution_count": 3,
   "id": "1dae2b2e",
   "metadata": {
    "execution": {
     "iopub.execute_input": "2022-03-22T12:41:51.474965Z",
     "iopub.status.busy": "2022-03-22T12:41:51.473840Z",
     "iopub.status.idle": "2022-03-22T12:41:51.725376Z",
     "shell.execute_reply": "2022-03-22T12:41:51.726332Z"
    },
    "papermill": {
     "duration": 0.279585,
     "end_time": "2022-03-22T12:41:51.726632",
     "exception": false,
     "start_time": "2022-03-22T12:41:51.447047",
     "status": "completed"
    },
    "tags": []
   },
   "outputs": [
    {
     "name": "stdout",
     "output_type": "stream",
     "text": [
      "(42000, 28, 28, 1) (42000, 10) (28000, 28, 28, 1)\n"
     ]
    }
   ],
   "source": [
    "train_X = train[:,1:]\n",
    "train_Y = to_categorical(train[:,0])\n",
    "\n",
    "train_X = np.reshape(train_X, (train_X.shape[0],28,28,1))\n",
    "test_X = np.reshape(test, (test.shape[0],28,28,1))\n",
    "\n",
    "train_X = train_X / 255.0\n",
    "test_X = test_X / 255.0\n",
    "\n",
    "print(train_X.shape, train_Y.shape, test_X.shape)"
   ]
  },
  {
   "cell_type": "markdown",
   "id": "f3f1ecf7",
   "metadata": {
    "papermill": {
     "duration": 0.019939,
     "end_time": "2022-03-22T12:41:51.768820",
     "exception": false,
     "start_time": "2022-03-22T12:41:51.748881",
     "status": "completed"
    },
    "tags": []
   },
   "source": [
    "\n",
    "#### Constants"
   ]
  },
  {
   "cell_type": "code",
   "execution_count": 4,
   "id": "3ddae9a9",
   "metadata": {
    "execution": {
     "iopub.execute_input": "2022-03-22T12:41:51.815110Z",
     "iopub.status.busy": "2022-03-22T12:41:51.814442Z",
     "iopub.status.idle": "2022-03-22T12:41:51.818919Z",
     "shell.execute_reply": "2022-03-22T12:41:51.819426Z"
    },
    "papermill": {
     "duration": 0.030768,
     "end_time": "2022-03-22T12:41:51.819600",
     "exception": false,
     "start_time": "2022-03-22T12:41:51.788832",
     "status": "completed"
    },
    "tags": []
   },
   "outputs": [],
   "source": [
    "SIZE = 28\n",
    "\n",
    "BS = 64\n",
    "EPOCHS = 20\n",
    "\n",
    "RANDOM_SEED = 17\n",
    "SPLIT = 0.2\n",
    "LABELS = 10\n",
    "\n",
    "VALID_SIZE = int(train_X.shape[0] * SPLIT)\n",
    "TRAIN_SIZE = train_X.shape[0] - VALID_SIZE\n",
    "\n",
    "set_seed(RANDOM_SEED)\n",
    "seed(RANDOM_SEED)"
   ]
  },
  {
   "cell_type": "markdown",
   "id": "ffec46a9",
   "metadata": {
    "papermill": {
     "duration": 0.020322,
     "end_time": "2022-03-22T12:41:51.860121",
     "exception": false,
     "start_time": "2022-03-22T12:41:51.839799",
     "status": "completed"
    },
    "tags": []
   },
   "source": [
    "#### Data generators"
   ]
  },
  {
   "cell_type": "code",
   "execution_count": 5,
   "id": "24d23d5c",
   "metadata": {
    "execution": {
     "iopub.execute_input": "2022-03-22T12:41:51.907731Z",
     "iopub.status.busy": "2022-03-22T12:41:51.906787Z",
     "iopub.status.idle": "2022-03-22T12:41:51.993295Z",
     "shell.execute_reply": "2022-03-22T12:41:51.992655Z"
    },
    "papermill": {
     "duration": 0.112642,
     "end_time": "2022-03-22T12:41:51.993464",
     "exception": false,
     "start_time": "2022-03-22T12:41:51.880822",
     "status": "completed"
    },
    "tags": []
   },
   "outputs": [],
   "source": [
    "datagen = ImageDataGenerator(\n",
    "        rotation_range = 35,\n",
    "        width_shift_range = 2,\n",
    "        height_shift_range = 2,\n",
    "        zoom_range = 0.1,\n",
    "        validation_split = SPLIT)\n",
    "\n",
    "train_gen = datagen.flow(\n",
    "         train_X, train_Y,\n",
    "         batch_size = BS,\n",
    "         subset='training',\n",
    "         seed = RANDOM_SEED)\n",
    "\n",
    "valid_gen = train_gen = datagen.flow(\n",
    "         train_X, train_Y,\n",
    "         batch_size = BS,\n",
    "         subset='validation',\n",
    "         seed = RANDOM_SEED)"
   ]
  },
  {
   "cell_type": "markdown",
   "id": "dc8b2b10",
   "metadata": {
    "papermill": {
     "duration": 0.020486,
     "end_time": "2022-03-22T12:41:52.035005",
     "exception": false,
     "start_time": "2022-03-22T12:41:52.014519",
     "status": "completed"
    },
    "tags": []
   },
   "source": [
    "#### Build TensorFlow input pipelines"
   ]
  },
  {
   "cell_type": "code",
   "execution_count": 6,
   "id": "afe5861a",
   "metadata": {
    "_kg_hide-output": true,
    "execution": {
     "iopub.execute_input": "2022-03-22T12:41:54.624012Z",
     "iopub.status.busy": "2022-03-22T12:41:52.084764Z",
     "iopub.status.idle": "2022-03-22T12:41:54.705764Z",
     "shell.execute_reply": "2022-03-22T12:41:54.706314Z"
    },
    "papermill": {
     "duration": 2.650547,
     "end_time": "2022-03-22T12:41:54.706482",
     "exception": false,
     "start_time": "2022-03-22T12:41:52.055935",
     "status": "completed"
    },
    "tags": []
   },
   "outputs": [
    {
     "name": "stderr",
     "output_type": "stream",
     "text": [
      "2022-03-22 12:41:52.138311: I tensorflow/stream_executor/cuda/cuda_gpu_executor.cc:937] successful NUMA node read from SysFS had negative value (-1), but there must be at least one NUMA node, so returning NUMA node zero\n",
      "2022-03-22 12:41:52.244938: I tensorflow/stream_executor/cuda/cuda_gpu_executor.cc:937] successful NUMA node read from SysFS had negative value (-1), but there must be at least one NUMA node, so returning NUMA node zero\n",
      "2022-03-22 12:41:52.246031: I tensorflow/stream_executor/cuda/cuda_gpu_executor.cc:937] successful NUMA node read from SysFS had negative value (-1), but there must be at least one NUMA node, so returning NUMA node zero\n",
      "2022-03-22 12:41:52.249159: I tensorflow/core/platform/cpu_feature_guard.cc:142] This TensorFlow binary is optimized with oneAPI Deep Neural Network Library (oneDNN) to use the following CPU instructions in performance-critical operations:  AVX2 FMA\n",
      "To enable them in other operations, rebuild TensorFlow with the appropriate compiler flags.\n",
      "2022-03-22 12:41:52.250525: I tensorflow/stream_executor/cuda/cuda_gpu_executor.cc:937] successful NUMA node read from SysFS had negative value (-1), but there must be at least one NUMA node, so returning NUMA node zero\n",
      "2022-03-22 12:41:52.251604: I tensorflow/stream_executor/cuda/cuda_gpu_executor.cc:937] successful NUMA node read from SysFS had negative value (-1), but there must be at least one NUMA node, so returning NUMA node zero\n",
      "2022-03-22 12:41:52.252797: I tensorflow/stream_executor/cuda/cuda_gpu_executor.cc:937] successful NUMA node read from SysFS had negative value (-1), but there must be at least one NUMA node, so returning NUMA node zero\n",
      "2022-03-22 12:41:54.290555: I tensorflow/stream_executor/cuda/cuda_gpu_executor.cc:937] successful NUMA node read from SysFS had negative value (-1), but there must be at least one NUMA node, so returning NUMA node zero\n",
      "2022-03-22 12:41:54.291597: I tensorflow/stream_executor/cuda/cuda_gpu_executor.cc:937] successful NUMA node read from SysFS had negative value (-1), but there must be at least one NUMA node, so returning NUMA node zero\n",
      "2022-03-22 12:41:54.292538: I tensorflow/stream_executor/cuda/cuda_gpu_executor.cc:937] successful NUMA node read from SysFS had negative value (-1), but there must be at least one NUMA node, so returning NUMA node zero\n",
      "2022-03-22 12:41:54.293350: I tensorflow/core/common_runtime/gpu/gpu_device.cc:1510] Created device /job:localhost/replica:0/task:0/device:GPU:0 with 15403 MB memory:  -> device: 0, name: Tesla P100-PCIE-16GB, pci bus id: 0000:00:04.0, compute capability: 6.0\n"
     ]
    }
   ],
   "source": [
    "train = tf.data.Dataset.from_generator(\n",
    "    lambda: train_gen, \n",
    "    output_types=(tf.float32, tf.float32), \n",
    "    output_shapes=([None, SIZE, SIZE, 1], [None, LABELS]))\n",
    "\n",
    "valid = tf.data.Dataset.from_generator(\n",
    "    lambda: valid_gen, \n",
    "    output_types=(tf.float32, tf.float32), \n",
    "    output_shapes=([None, SIZE, SIZE, 1], [None, LABELS]))\n",
    "\n",
    "train = train.repeat().prefetch(AUTOTUNE)\n",
    "valid = train.repeat().prefetch(AUTOTUNE)"
   ]
  },
  {
   "cell_type": "markdown",
   "id": "54d413fb",
   "metadata": {
    "papermill": {
     "duration": 0.02009,
     "end_time": "2022-03-22T12:41:54.747359",
     "exception": false,
     "start_time": "2022-03-22T12:41:54.727269",
     "status": "completed"
    },
    "tags": []
   },
   "source": [
    "#### Model"
   ]
  },
  {
   "cell_type": "code",
   "execution_count": 7,
   "id": "c625c845",
   "metadata": {
    "execution": {
     "iopub.execute_input": "2022-03-22T12:41:54.800450Z",
     "iopub.status.busy": "2022-03-22T12:41:54.798163Z",
     "iopub.status.idle": "2022-03-22T12:41:54.801191Z",
     "shell.execute_reply": "2022-03-22T12:41:54.801639Z"
    },
    "papermill": {
     "duration": 0.033618,
     "end_time": "2022-03-22T12:41:54.801831",
     "exception": false,
     "start_time": "2022-03-22T12:41:54.768213",
     "status": "completed"
    },
    "tags": []
   },
   "outputs": [],
   "source": [
    "class CNN:\n",
    "    @staticmethod\n",
    "    def build(height, width, depth):\n",
    "        model = keras.Sequential()\n",
    "        \n",
    "        model.add(Input((height, width, depth)))\n",
    "        \n",
    "        model.add(Conv2D(128, (3, 3), activation='relu'))\n",
    "        model.add(Conv2D(128, (3, 3), activation='relu'))\n",
    "        model.add(MaxPooling2D((2, 2)))\n",
    "        model.add(BatchNormalization())\n",
    "        \n",
    "        model.add(Conv2D(256, (3, 3), activation='relu'))\n",
    "        model.add(Conv2D(256, (3, 3), activation='relu'))\n",
    "        model.add(MaxPooling2D((2, 2)))\n",
    "        model.add(BatchNormalization())\n",
    "        \n",
    "        model.add(Flatten())\n",
    "        \n",
    "        model.add(Dropout(0.2))\n",
    "        model.add(Dense(512, activation = 'relu'))\n",
    "        \n",
    "        model.add(Dense(10, activation = 'softmax'))\n",
    "        \n",
    "        return model"
   ]
  },
  {
   "cell_type": "markdown",
   "id": "7963266e",
   "metadata": {
    "papermill": {
     "duration": 0.020232,
     "end_time": "2022-03-22T12:41:54.842963",
     "exception": false,
     "start_time": "2022-03-22T12:41:54.822731",
     "status": "completed"
    },
    "tags": []
   },
   "source": [
    "#### Build and compile model"
   ]
  },
  {
   "cell_type": "code",
   "execution_count": 8,
   "id": "ac346b17",
   "metadata": {
    "execution": {
     "iopub.execute_input": "2022-03-22T12:41:54.894507Z",
     "iopub.status.busy": "2022-03-22T12:41:54.893846Z",
     "iopub.status.idle": "2022-03-22T12:41:55.058839Z",
     "shell.execute_reply": "2022-03-22T12:41:55.057974Z"
    },
    "papermill": {
     "duration": 0.192994,
     "end_time": "2022-03-22T12:41:55.059062",
     "exception": false,
     "start_time": "2022-03-22T12:41:54.866068",
     "status": "completed"
    },
    "tags": []
   },
   "outputs": [
    {
     "name": "stdout",
     "output_type": "stream",
     "text": [
      "Model: \"sequential\"\n",
      "_________________________________________________________________\n",
      "Layer (type)                 Output Shape              Param #   \n",
      "=================================================================\n",
      "conv2d (Conv2D)              (None, 26, 26, 128)       1280      \n",
      "_________________________________________________________________\n",
      "conv2d_1 (Conv2D)            (None, 24, 24, 128)       147584    \n",
      "_________________________________________________________________\n",
      "max_pooling2d (MaxPooling2D) (None, 12, 12, 128)       0         \n",
      "_________________________________________________________________\n",
      "batch_normalization (BatchNo (None, 12, 12, 128)       512       \n",
      "_________________________________________________________________\n",
      "conv2d_2 (Conv2D)            (None, 10, 10, 256)       295168    \n",
      "_________________________________________________________________\n",
      "conv2d_3 (Conv2D)            (None, 8, 8, 256)         590080    \n",
      "_________________________________________________________________\n",
      "max_pooling2d_1 (MaxPooling2 (None, 4, 4, 256)         0         \n",
      "_________________________________________________________________\n",
      "batch_normalization_1 (Batch (None, 4, 4, 256)         1024      \n",
      "_________________________________________________________________\n",
      "flatten (Flatten)            (None, 4096)              0         \n",
      "_________________________________________________________________\n",
      "dropout (Dropout)            (None, 4096)              0         \n",
      "_________________________________________________________________\n",
      "dense (Dense)                (None, 512)               2097664   \n",
      "_________________________________________________________________\n",
      "dense_1 (Dense)              (None, 10)                5130      \n",
      "=================================================================\n",
      "Total params: 3,138,442\n",
      "Trainable params: 3,137,674\n",
      "Non-trainable params: 768\n",
      "_________________________________________________________________\n"
     ]
    }
   ],
   "source": [
    "model = CNN.build(SIZE, SIZE, 1)\n",
    "model.summary()\n",
    "\n",
    "early_stopping = keras.callbacks.EarlyStopping(\n",
    "    patience=5,\n",
    "    min_delta=5e-4,\n",
    "    restore_best_weights=True)\n",
    "\n",
    "LR = LearningRateScheduler(lambda R: 5e-4 * 0.95 ** R)\n",
    "\n",
    "model.compile(\n",
    "    optimizer = 'adam',\n",
    "    loss='categorical_crossentropy',\n",
    "    metrics=['accuracy'],\n",
    "    steps_per_execution = 8)"
   ]
  },
  {
   "cell_type": "markdown",
   "id": "699916ab",
   "metadata": {
    "papermill": {
     "duration": 0.021292,
     "end_time": "2022-03-22T12:41:55.103460",
     "exception": false,
     "start_time": "2022-03-22T12:41:55.082168",
     "status": "completed"
    },
    "tags": []
   },
   "source": [
    "#### Fit model"
   ]
  },
  {
   "cell_type": "code",
   "execution_count": 9,
   "id": "a56dc118",
   "metadata": {
    "_kg_hide-output": true,
    "execution": {
     "iopub.execute_input": "2022-03-22T12:41:55.152211Z",
     "iopub.status.busy": "2022-03-22T12:41:55.151160Z",
     "iopub.status.idle": "2022-03-22T12:48:14.557319Z",
     "shell.execute_reply": "2022-03-22T12:48:14.558751Z"
    },
    "papermill": {
     "duration": 379.43465,
     "end_time": "2022-03-22T12:48:14.559051",
     "exception": false,
     "start_time": "2022-03-22T12:41:55.124401",
     "status": "completed"
    },
    "tags": []
   },
   "outputs": [
    {
     "name": "stdout",
     "output_type": "stream",
     "text": [
      "Epoch 1/20\n"
     ]
    },
    {
     "name": "stderr",
     "output_type": "stream",
     "text": [
      "2022-03-22 12:41:55.183477: I tensorflow/compiler/mlir/mlir_graph_optimization_pass.cc:185] None of the MLIR Optimization Passes are enabled (registered 2)\n",
      "2022-03-22 12:41:57.496238: I tensorflow/stream_executor/cuda/cuda_dnn.cc:369] Loaded cuDNN version 8005\n"
     ]
    },
    {
     "name": "stdout",
     "output_type": "stream",
     "text": [
      "525/525 [==============================] - 29s 56ms/step - loss: 0.2240 - accuracy: 0.9300 - val_loss: 0.1727 - val_accuracy: 0.9497\n",
      "Epoch 2/20\n",
      "525/525 [==============================] - 21s 40ms/step - loss: 0.0775 - accuracy: 0.9759 - val_loss: 0.0783 - val_accuracy: 0.9755\n",
      "Epoch 3/20\n",
      "525/525 [==============================] - 22s 42ms/step - loss: 0.0566 - accuracy: 0.9817 - val_loss: 0.0640 - val_accuracy: 0.9805\n",
      "Epoch 4/20\n",
      "525/525 [==============================] - 22s 42ms/step - loss: 0.0401 - accuracy: 0.9870 - val_loss: 0.0467 - val_accuracy: 0.9856\n",
      "Epoch 5/20\n",
      "525/525 [==============================] - 24s 46ms/step - loss: 0.0362 - accuracy: 0.9887 - val_loss: 0.0259 - val_accuracy: 0.9932\n",
      "Epoch 6/20\n",
      "525/525 [==============================] - 27s 51ms/step - loss: 0.0280 - accuracy: 0.9914 - val_loss: 0.0255 - val_accuracy: 0.9927\n",
      "Epoch 7/20\n",
      "525/525 [==============================] - 26s 49ms/step - loss: 0.0259 - accuracy: 0.9911 - val_loss: 0.0199 - val_accuracy: 0.9938\n",
      "Epoch 8/20\n",
      "525/525 [==============================] - 26s 49ms/step - loss: 0.0239 - accuracy: 0.9925 - val_loss: 0.0186 - val_accuracy: 0.9938\n",
      "Epoch 9/20\n",
      "525/525 [==============================] - 26s 50ms/step - loss: 0.0213 - accuracy: 0.9927 - val_loss: 0.0185 - val_accuracy: 0.9933\n",
      "Epoch 10/20\n",
      "525/525 [==============================] - 26s 50ms/step - loss: 0.0148 - accuracy: 0.9951 - val_loss: 0.0117 - val_accuracy: 0.9965\n",
      "Epoch 11/20\n",
      "525/525 [==============================] - 25s 48ms/step - loss: 0.0164 - accuracy: 0.9946 - val_loss: 0.0155 - val_accuracy: 0.9940\n",
      "Epoch 12/20\n",
      "525/525 [==============================] - 25s 48ms/step - loss: 0.0128 - accuracy: 0.9957 - val_loss: 0.0135 - val_accuracy: 0.9958\n",
      "Epoch 13/20\n",
      "525/525 [==============================] - 27s 51ms/step - loss: 0.0122 - accuracy: 0.9959 - val_loss: 0.0136 - val_accuracy: 0.9952\n",
      "Epoch 14/20\n",
      "525/525 [==============================] - 26s 50ms/step - loss: 0.0111 - accuracy: 0.9963 - val_loss: 0.0148 - val_accuracy: 0.9959\n",
      "Epoch 15/20\n",
      "525/525 [==============================] - 26s 50ms/step - loss: 0.0112 - accuracy: 0.9967 - val_loss: 0.0134 - val_accuracy: 0.9958\n",
      "CPU times: user 7min 24s, sys: 38.5 s, total: 8min 2s\n",
      "Wall time: 6min 19s\n"
     ]
    }
   ],
   "source": [
    "%%time\n",
    "H = model.fit(\n",
    "train, validation_data = valid,\n",
    "epochs=EPOCHS,\n",
    "steps_per_epoch = TRAIN_SIZE // BS,\n",
    "validation_steps = VALID_SIZE // BS,\n",
    "callbacks = [early_stopping, LR])"
   ]
  },
  {
   "cell_type": "markdown",
   "id": "1c979ce4",
   "metadata": {
    "papermill": {
     "duration": 0.858302,
     "end_time": "2022-03-22T12:48:16.628675",
     "exception": false,
     "start_time": "2022-03-22T12:48:15.770373",
     "status": "completed"
    },
    "tags": []
   },
   "source": [
    "#### Metrics"
   ]
  },
  {
   "cell_type": "code",
   "execution_count": 10,
   "id": "b231d26b",
   "metadata": {
    "execution": {
     "iopub.execute_input": "2022-03-22T12:48:18.380933Z",
     "iopub.status.busy": "2022-03-22T12:48:18.380211Z",
     "iopub.status.idle": "2022-03-22T12:48:19.083401Z",
     "shell.execute_reply": "2022-03-22T12:48:19.083957Z"
    },
    "papermill": {
     "duration": 1.568995,
     "end_time": "2022-03-22T12:48:19.084129",
     "exception": false,
     "start_time": "2022-03-22T12:48:17.515134",
     "status": "completed"
    },
    "tags": []
   },
   "outputs": [
    {
     "data": {
      "image/png": "[encoded data removed]",
      "text/plain": [
       "<Figure size 1440x360 with 2 Axes>"
      ]
     },
     "metadata": {
      "needs_background": "light"
     },
     "output_type": "display_data"
    }
   ],
   "source": [
    "df = pd.DataFrame(H.history)\n",
    "df.index += 1\n",
    "fig = plt.figure(figsize = (20,5))\n",
    "fig.suptitle('Validation metrics')\n",
    "ax1 = fig.add_subplot(121)\n",
    "ax2 = fig.add_subplot(122)\n",
    "ax1.set_xticks(range(len(df)+1))\n",
    "ax2.set_xticks(range(len(df)+1))\n",
    "df[['loss', 'val_loss']].plot(title=\"Cross Entropy\", grid=True, ax=ax1)\n",
    "df[['accuracy', 'val_accuracy']].plot(title=\"Accuracy\",grid=True, ax=ax2)\n",
    "plt.show()"
   ]
  },
  {
   "cell_type": "markdown",
   "id": "c257569e",
   "metadata": {
    "papermill": {
     "duration": 0.420841,
     "end_time": "2022-03-22T12:48:19.926978",
     "exception": false,
     "start_time": "2022-03-22T12:48:19.506137",
     "status": "completed"
    },
    "tags": []
   },
   "source": [
    "#### Model serialization"
   ]
  },
  {
   "cell_type": "code",
   "execution_count": 11,
   "id": "40115be6",
   "metadata": {
    "execution": {
     "iopub.execute_input": "2022-03-22T12:48:20.793445Z",
     "iopub.status.busy": "2022-03-22T12:48:20.792444Z",
     "iopub.status.idle": "2022-03-22T12:48:20.911007Z",
     "shell.execute_reply": "2022-03-22T12:48:20.910105Z"
    },
    "papermill": {
     "duration": 0.554213,
     "end_time": "2022-03-22T12:48:20.911157",
     "exception": false,
     "start_time": "2022-03-22T12:48:20.356944",
     "status": "completed"
    },
    "tags": []
   },
   "outputs": [],
   "source": [
    "model.save('model.h5', save_format='h5')"
   ]
  },
  {
   "cell_type": "markdown",
   "id": "a149d2dd",
   "metadata": {
    "papermill": {
     "duration": 0.418138,
     "end_time": "2022-03-22T12:48:21.751656",
     "exception": false,
     "start_time": "2022-03-22T12:48:21.333518",
     "status": "completed"
    },
    "tags": []
   },
   "source": [
    "#### Predictions"
   ]
  },
  {
   "cell_type": "code",
   "execution_count": 12,
   "id": "8e01dab5",
   "metadata": {
    "execution": {
     "iopub.execute_input": "2022-03-22T12:48:22.597900Z",
     "iopub.status.busy": "2022-03-22T12:48:22.596994Z",
     "iopub.status.idle": "2022-03-22T12:48:25.165793Z",
     "shell.execute_reply": "2022-03-22T12:48:25.166320Z"
    },
    "papermill": {
     "duration": 2.994978,
     "end_time": "2022-03-22T12:48:25.166498",
     "exception": false,
     "start_time": "2022-03-22T12:48:22.171520",
     "status": "completed"
    },
    "tags": []
   },
   "outputs": [
    {
     "data": {
      "text/html": [
       "<div>\n",
       "<style scoped>\n",
       "    .dataframe tbody tr th:only-of-type {\n",
       "        vertical-align: middle;\n",
       "    }\n",
       "\n",
       "    .dataframe tbody tr th {\n",
       "        vertical-align: top;\n",
       "    }\n",
       "\n",
       "    .dataframe thead th {\n",
       "        text-align: right;\n",
       "    }\n",
       "</style>\n",
       "<table border=\"1\" class=\"dataframe\">\n",
       "  <thead>\n",
       "    <tr style=\"text-align: right;\">\n",
       "      <th></th>\n",
       "      <th>ImageId</th>\n",
       "      <th>Label</th>\n",
       "    </tr>\n",
       "  </thead>\n",
       "  <tbody>\n",
       "    <tr>\n",
       "      <th>0</th>\n",
       "      <td>1</td>\n",
       "      <td>2</td>\n",
       "    </tr>\n",
       "    <tr>\n",
       "      <th>1</th>\n",
       "      <td>2</td>\n",
       "      <td>0</td>\n",
       "    </tr>\n",
       "    <tr>\n",
       "      <th>2</th>\n",
       "      <td>3</td>\n",
       "      <td>9</td>\n",
       "    </tr>\n",
       "    <tr>\n",
       "      <th>3</th>\n",
       "      <td>4</td>\n",
       "      <td>0</td>\n",
       "    </tr>\n",
       "    <tr>\n",
       "      <th>4</th>\n",
       "      <td>5</td>\n",
       "      <td>3</td>\n",
       "    </tr>\n",
       "  </tbody>\n",
       "</table>\n",
       "</div>"
      ],
      "text/plain": [
       "   ImageId  Label\n",
       "0        1      2\n",
       "1        2      0\n",
       "2        3      9\n",
       "3        4      0\n",
       "4        5      3"
      ]
     },
     "execution_count": 12,
     "metadata": {},
     "output_type": "execute_result"
    }
   ],
   "source": [
    "pred = model.predict(test_X)\n",
    "classes = pred.argmax(axis=-1)\n",
    "\n",
    "sub = pd.read_csv('../input/digit-recognizer/sample_submission.csv')\n",
    "sub.Label = classes\n",
    "sub.head()"
   ]
  },
  {
   "cell_type": "markdown",
   "id": "7bc6fff2",
   "metadata": {
    "papermill": {
     "duration": 0.629784,
     "end_time": "2022-03-22T12:48:26.233310",
     "exception": false,
     "start_time": "2022-03-22T12:48:25.603526",
     "status": "completed"
    },
    "tags": []
   },
   "source": [
    " #### Submission"
   ]
  },
  {
   "cell_type": "code",
   "execution_count": 13,
   "id": "639eedf0",
   "metadata": {
    "execution": {
     "iopub.execute_input": "2022-03-22T12:48:27.263036Z",
     "iopub.status.busy": "2022-03-22T12:48:27.262052Z",
     "iopub.status.idle": "2022-03-22T12:48:27.309437Z",
     "shell.execute_reply": "2022-03-22T12:48:27.308924Z"
    },
    "papermill": {
     "duration": 0.532486,
     "end_time": "2022-03-22T12:48:27.309564",
     "exception": false,
     "start_time": "2022-03-22T12:48:26.777078",
     "status": "completed"
    },
    "tags": []
   },
   "outputs": [],
   "source": [
    "sub.to_csv('submission.csv', index = False)"
   ]
  }
 ],
 "metadata": {
  "kernelspec": {
   "display_name": "Python 3",
   "language": "python",
   "name": "python3"
  },
  "language_info": {
   "codemirror_mode": {
    "name": "ipython",
    "version": 3
   },
   "file_extension": ".py",
   "mimetype": "text/x-python",
   "name": "python",
   "nbconvert_exporter": "python",
   "pygments_lexer": "ipython3",
   "version": "3.7.12"
  },
  "papermill": {
   "default_parameters": {},
   "duration": 421.875499,
   "end_time": "2022-03-22T12:48:30.892003",
   "environment_variables": {},
   "exception": null,
   "input_path": "__notebook__.ipynb",
   "output_path": "__notebook__.ipynb",
   "parameters": {},
   "start_time": "2022-03-22T12:41:29.016504",
   "version": "2.3.3"
  }
 },
 "nbformat": 4,
 "nbformat_minor": 5
}
