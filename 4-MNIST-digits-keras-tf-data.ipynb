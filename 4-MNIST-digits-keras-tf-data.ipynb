{
 "cells": [
  {
   "cell_type": "code",
   "execution_count": 1,
   "id": "0133ae53",
   "metadata": {
    "_cell_guid": "b1076dfc-b9ad-4769-8c92-a6c4dae69d19",
    "_uuid": "8f2839f25d086af736a60e9eeb907d3b93b6e0e5",
    "execution": {
     "iopub.execute_input": "2022-03-23T05:51:28.909701Z",
     "iopub.status.busy": "2022-03-23T05:51:28.905607Z",
     "iopub.status.idle": "2022-03-23T05:51:34.884444Z",
     "shell.execute_reply": "2022-03-23T05:51:34.883851Z",
     "shell.execute_reply.started": "2022-03-23T05:25:15.968964Z"
    },
    "papermill": {
     "duration": 6.005845,
     "end_time": "2022-03-23T05:51:34.884631",
     "exception": false,
     "start_time": "2022-03-23T05:51:28.878786",
     "status": "completed"
    },
    "tags": []
   },
   "outputs": [],
   "source": [
    "import numpy as np\n",
    "from numpy.random import seed\n",
    "import pandas as pd\n",
    "import matplotlib.pyplot as plt\n",
    "import time\n",
    "\n",
    "from sklearn.model_selection import train_test_split\n",
    "\n",
    "import tensorflow as tf\n",
    "from tensorflow import keras\n",
    "from tensorflow.keras.layers import Input\n",
    "from tensorflow.keras.layers import Conv2D\n",
    "from tensorflow.keras.layers import MaxPooling2D\n",
    "from tensorflow.keras.layers import BatchNormalization\n",
    "from tensorflow.keras.layers import Flatten\n",
    "from tensorflow.keras.layers import Dense\n",
    "from tensorflow.keras.layers import Dropout\n",
    "\n",
    "from tensorflow.data import AUTOTUNE\n",
    "from tensorflow.keras.utils import to_categorical\n",
    "from tensorflow.keras.preprocessing.image import ImageDataGenerator\n",
    "from tensorflow.random import set_seed\n",
    "from keras.callbacks import EarlyStopping, LearningRateScheduler"
   ]
  },
  {
   "cell_type": "code",
   "execution_count": 2,
   "id": "488d93bd",
   "metadata": {
    "execution": {
     "iopub.execute_input": "2022-03-23T05:51:34.922506Z",
     "iopub.status.busy": "2022-03-23T05:51:34.921756Z",
     "iopub.status.idle": "2022-03-23T05:51:39.793994Z",
     "shell.execute_reply": "2022-03-23T05:51:39.794642Z",
     "shell.execute_reply.started": "2022-03-23T05:43:08.886994Z"
    },
    "papermill": {
     "duration": 4.891948,
     "end_time": "2022-03-23T05:51:39.794836",
     "exception": false,
     "start_time": "2022-03-23T05:51:34.902888",
     "status": "completed"
    },
    "tags": []
   },
   "outputs": [
    {
     "name": "stdout",
     "output_type": "stream",
     "text": [
      "(42000, 785) (28000, 784)\n"
     ]
    }
   ],
   "source": [
    "train = pd.read_csv('../input/digit-recognizer/train.csv').to_numpy()\n",
    "test = pd.read_csv('../input/digit-recognizer/test.csv').to_numpy()\n",
    "print(train.shape, test.shape)"
   ]
  },
  {
   "cell_type": "code",
   "execution_count": 3,
   "id": "60900adf",
   "metadata": {
    "execution": {
     "iopub.execute_input": "2022-03-23T05:51:39.837221Z",
     "iopub.status.busy": "2022-03-23T05:51:39.836696Z",
     "iopub.status.idle": "2022-03-23T05:51:39.839611Z",
     "shell.execute_reply": "2022-03-23T05:51:39.839158Z",
     "shell.execute_reply.started": "2022-03-23T05:43:26.412776Z"
    },
    "papermill": {
     "duration": 0.025382,
     "end_time": "2022-03-23T05:51:39.839730",
     "exception": false,
     "start_time": "2022-03-23T05:51:39.814348",
     "status": "completed"
    },
    "tags": []
   },
   "outputs": [],
   "source": [
    "SIZE = 28\n",
    "\n",
    "BS = 64\n",
    "EPOCHS = 25\n",
    "\n",
    "SPLIT = 0.2\n",
    "\n",
    "RANDOM_SEED = 17\n",
    "LABELS = 10\n",
    "\n",
    "set_seed(RANDOM_SEED)\n",
    "seed(RANDOM_SEED)"
   ]
  },
  {
   "cell_type": "code",
   "execution_count": 4,
   "id": "90fc4ac5",
   "metadata": {
    "execution": {
     "iopub.execute_input": "2022-03-23T05:51:39.881169Z",
     "iopub.status.busy": "2022-03-23T05:51:39.880656Z",
     "iopub.status.idle": "2022-03-23T05:51:40.929610Z",
     "shell.execute_reply": "2022-03-23T05:51:40.930283Z",
     "shell.execute_reply.started": "2022-03-23T05:43:29.005102Z"
    },
    "papermill": {
     "duration": 1.073273,
     "end_time": "2022-03-23T05:51:40.930486",
     "exception": false,
     "start_time": "2022-03-23T05:51:39.857213",
     "status": "completed"
    },
    "tags": []
   },
   "outputs": [
    {
     "name": "stdout",
     "output_type": "stream",
     "text": [
      "(33600, 28, 28, 1) (33600, 10) (8400, 28, 28, 1) (8400, 10) (28000, 28, 28, 1)\n"
     ]
    }
   ],
   "source": [
    "train_X = train[:,1:]\n",
    "train_Y = to_categorical(train[:,0])\n",
    "\n",
    "train_X = np.reshape(train_X, (train_X.shape[0],28,28,1))\n",
    "test_X = np.reshape(test, (test.shape[0],28,28,1))\n",
    "\n",
    "train_X = train_X / 255.0\n",
    "test_X = test_X / 255.0\n",
    "\n",
    "train_X, valid_X, train_Y, valid_Y = train_test_split(train_X, train_Y, test_size = SPLIT,\n",
    "                                                     stratify = train_Y, random_state = RANDOM_SEED)\n",
    "\n",
    "print(train_X.shape, train_Y.shape, valid_X.shape, valid_Y.shape, test_X.shape)"
   ]
  },
  {
   "cell_type": "markdown",
   "id": "a03b96c2",
   "metadata": {
    "papermill": {
     "duration": 0.017386,
     "end_time": "2022-03-23T05:51:40.966818",
     "exception": false,
     "start_time": "2022-03-23T05:51:40.949432",
     "status": "completed"
    },
    "tags": []
   },
   "source": [
    "\n",
    "#### Constants"
   ]
  },
  {
   "cell_type": "markdown",
   "id": "05ebb4b9",
   "metadata": {
    "papermill": {
     "duration": 0.017516,
     "end_time": "2022-03-23T05:51:41.002183",
     "exception": false,
     "start_time": "2022-03-23T05:51:40.984667",
     "status": "completed"
    },
    "tags": []
   },
   "source": [
    "#### Data generators"
   ]
  },
  {
   "cell_type": "code",
   "execution_count": 5,
   "id": "1e6d4dd9",
   "metadata": {
    "execution": {
     "iopub.execute_input": "2022-03-23T05:51:41.043934Z",
     "iopub.status.busy": "2022-03-23T05:51:41.042879Z",
     "iopub.status.idle": "2022-03-23T05:51:41.085479Z",
     "shell.execute_reply": "2022-03-23T05:51:41.084672Z",
     "shell.execute_reply.started": "2022-03-23T05:43:32.291747Z"
    },
    "papermill": {
     "duration": 0.065663,
     "end_time": "2022-03-23T05:51:41.085623",
     "exception": false,
     "start_time": "2022-03-23T05:51:41.019960",
     "status": "completed"
    },
    "tags": []
   },
   "outputs": [],
   "source": [
    "datagen = ImageDataGenerator(\n",
    "        rotation_range = 45,\n",
    "        width_shift_range = 2,\n",
    "        height_shift_range = 2,\n",
    "        zoom_range = 0.01)\n",
    "\n",
    "train_gen = datagen.flow(\n",
    "         train_X, train_Y,\n",
    "         batch_size = BS,\n",
    "         seed = RANDOM_SEED)"
   ]
  },
  {
   "cell_type": "markdown",
   "id": "f5daea40",
   "metadata": {
    "papermill": {
     "duration": 0.01742,
     "end_time": "2022-03-23T05:51:41.120784",
     "exception": false,
     "start_time": "2022-03-23T05:51:41.103364",
     "status": "completed"
    },
    "tags": []
   },
   "source": [
    "#### Build TensorFlow input pipelines"
   ]
  },
  {
   "cell_type": "code",
   "execution_count": 6,
   "id": "563bdc3f",
   "metadata": {
    "_kg_hide-output": true,
    "execution": {
     "iopub.execute_input": "2022-03-23T05:51:41.309411Z",
     "iopub.status.busy": "2022-03-23T05:51:41.308723Z",
     "iopub.status.idle": "2022-03-23T05:51:43.619921Z",
     "shell.execute_reply": "2022-03-23T05:51:43.620527Z",
     "shell.execute_reply.started": "2022-03-23T05:43:35.617124Z"
    },
    "papermill": {
     "duration": 2.482215,
     "end_time": "2022-03-23T05:51:43.620738",
     "exception": false,
     "start_time": "2022-03-23T05:51:41.138523",
     "status": "completed"
    },
    "tags": []
   },
   "outputs": [
    {
     "name": "stderr",
     "output_type": "stream",
     "text": [
      "2022-03-23 05:51:41.209963: I tensorflow/stream_executor/cuda/cuda_gpu_executor.cc:937] successful NUMA node read from SysFS had negative value (-1), but there must be at least one NUMA node, so returning NUMA node zero\n",
      "2022-03-23 05:51:41.305277: I tensorflow/stream_executor/cuda/cuda_gpu_executor.cc:937] successful NUMA node read from SysFS had negative value (-1), but there must be at least one NUMA node, so returning NUMA node zero\n",
      "2022-03-23 05:51:41.306416: I tensorflow/stream_executor/cuda/cuda_gpu_executor.cc:937] successful NUMA node read from SysFS had negative value (-1), but there must be at least one NUMA node, so returning NUMA node zero\n",
      "2022-03-23 05:51:41.309367: I tensorflow/core/platform/cpu_feature_guard.cc:142] This TensorFlow binary is optimized with oneAPI Deep Neural Network Library (oneDNN) to use the following CPU instructions in performance-critical operations:  AVX2 AVX512F FMA\n",
      "To enable them in other operations, rebuild TensorFlow with the appropriate compiler flags.\n",
      "2022-03-23 05:51:41.310181: I tensorflow/stream_executor/cuda/cuda_gpu_executor.cc:937] successful NUMA node read from SysFS had negative value (-1), but there must be at least one NUMA node, so returning NUMA node zero\n",
      "2022-03-23 05:51:41.311181: I tensorflow/stream_executor/cuda/cuda_gpu_executor.cc:937] successful NUMA node read from SysFS had negative value (-1), but there must be at least one NUMA node, so returning NUMA node zero\n",
      "2022-03-23 05:51:41.312182: I tensorflow/stream_executor/cuda/cuda_gpu_executor.cc:937] successful NUMA node read from SysFS had negative value (-1), but there must be at least one NUMA node, so returning NUMA node zero\n",
      "2022-03-23 05:51:43.165208: I tensorflow/stream_executor/cuda/cuda_gpu_executor.cc:937] successful NUMA node read from SysFS had negative value (-1), but there must be at least one NUMA node, so returning NUMA node zero\n",
      "2022-03-23 05:51:43.166034: I tensorflow/stream_executor/cuda/cuda_gpu_executor.cc:937] successful NUMA node read from SysFS had negative value (-1), but there must be at least one NUMA node, so returning NUMA node zero\n",
      "2022-03-23 05:51:43.166695: I tensorflow/stream_executor/cuda/cuda_gpu_executor.cc:937] successful NUMA node read from SysFS had negative value (-1), but there must be at least one NUMA node, so returning NUMA node zero\n",
      "2022-03-23 05:51:43.167284: I tensorflow/core/common_runtime/gpu/gpu_device.cc:1510] Created device /job:localhost/replica:0/task:0/device:GPU:0 with 15403 MB memory:  -> device: 0, name: Tesla P100-PCIE-16GB, pci bus id: 0000:00:04.0, compute capability: 6.0\n"
     ]
    }
   ],
   "source": [
    "train = tf.data.Dataset.from_generator(\n",
    "    lambda: train_gen, \n",
    "    output_types=(tf.float32, tf.float32), \n",
    "    output_shapes=([None, SIZE, SIZE, 1], [None, LABELS]))\n",
    "\n",
    "valid = tf.data.Dataset.from_tensor_slices((valid_X, valid_Y))\n",
    "\n",
    "train = train.prefetch(AUTOTUNE).repeat()\n",
    "valid = valid.batch(BS)"
   ]
  },
  {
   "cell_type": "markdown",
   "id": "e4b2fe0d",
   "metadata": {
    "papermill": {
     "duration": 0.017753,
     "end_time": "2022-03-23T05:51:43.657719",
     "exception": false,
     "start_time": "2022-03-23T05:51:43.639966",
     "status": "completed"
    },
    "tags": []
   },
   "source": [
    "#### Model"
   ]
  },
  {
   "cell_type": "code",
   "execution_count": 7,
   "id": "0673661a",
   "metadata": {
    "execution": {
     "iopub.execute_input": "2022-03-23T05:51:43.705292Z",
     "iopub.status.busy": "2022-03-23T05:51:43.704409Z",
     "iopub.status.idle": "2022-03-23T05:51:43.706863Z",
     "shell.execute_reply": "2022-03-23T05:51:43.706424Z",
     "shell.execute_reply.started": "2022-03-23T05:43:37.431814Z"
    },
    "papermill": {
     "duration": 0.029207,
     "end_time": "2022-03-23T05:51:43.706991",
     "exception": false,
     "start_time": "2022-03-23T05:51:43.677784",
     "status": "completed"
    },
    "tags": []
   },
   "outputs": [],
   "source": [
    "class CNN:\n",
    "    @staticmethod\n",
    "    def build(height, width, depth):\n",
    "        model = keras.Sequential()\n",
    "        \n",
    "        model.add(Input((height, width, depth)))\n",
    "        \n",
    "        model.add(Conv2D(64, (3, 3), activation='relu'))\n",
    "        model.add(Conv2D(64, (3, 3), activation='relu'))\n",
    "        model.add(MaxPooling2D((2, 2)))\n",
    "        model.add(BatchNormalization())\n",
    "        \n",
    "        model.add(Conv2D(128, (3, 3), activation='relu'))\n",
    "        model.add(Conv2D(128, (3, 3), activation='relu'))\n",
    "        model.add(MaxPooling2D((2, 2)))\n",
    "        model.add(BatchNormalization())\n",
    "        \n",
    "        model.add(Conv2D(256, (3, 3), activation='relu'))\n",
    "        model.add(MaxPooling2D((2, 2)))\n",
    "        model.add(BatchNormalization())\n",
    "        \n",
    "        model.add(Flatten())\n",
    "        \n",
    "        model.add(Dense(512, activation = 'relu'))\n",
    "        model.add(Dense(10, activation = 'softmax'))\n",
    "        \n",
    "        return model"
   ]
  },
  {
   "cell_type": "markdown",
   "id": "d40135f1",
   "metadata": {
    "papermill": {
     "duration": 0.017902,
     "end_time": "2022-03-23T05:51:43.742912",
     "exception": false,
     "start_time": "2022-03-23T05:51:43.725010",
     "status": "completed"
    },
    "tags": []
   },
   "source": [
    "#### Build and compile model"
   ]
  },
  {
   "cell_type": "code",
   "execution_count": 8,
   "id": "ea6fed42",
   "metadata": {
    "execution": {
     "iopub.execute_input": "2022-03-23T05:51:43.785486Z",
     "iopub.status.busy": "2022-03-23T05:51:43.784935Z",
     "iopub.status.idle": "2022-03-23T05:51:43.938022Z",
     "shell.execute_reply": "2022-03-23T05:51:43.938462Z",
     "shell.execute_reply.started": "2022-03-23T05:43:39.876855Z"
    },
    "papermill": {
     "duration": 0.177653,
     "end_time": "2022-03-23T05:51:43.938624",
     "exception": false,
     "start_time": "2022-03-23T05:51:43.760971",
     "status": "completed"
    },
    "tags": []
   },
   "outputs": [
    {
     "name": "stdout",
     "output_type": "stream",
     "text": [
      "Model: \"sequential\"\n",
      "_________________________________________________________________\n",
      "Layer (type)                 Output Shape              Param #   \n",
      "=================================================================\n",
      "conv2d (Conv2D)              (None, 26, 26, 64)        640       \n",
      "_________________________________________________________________\n",
      "conv2d_1 (Conv2D)            (None, 24, 24, 64)        36928     \n",
      "_________________________________________________________________\n",
      "max_pooling2d (MaxPooling2D) (None, 12, 12, 64)        0         \n",
      "_________________________________________________________________\n",
      "batch_normalization (BatchNo (None, 12, 12, 64)        256       \n",
      "_________________________________________________________________\n",
      "conv2d_2 (Conv2D)            (None, 10, 10, 128)       73856     \n",
      "_________________________________________________________________\n",
      "conv2d_3 (Conv2D)            (None, 8, 8, 128)         147584    \n",
      "_________________________________________________________________\n",
      "max_pooling2d_1 (MaxPooling2 (None, 4, 4, 128)         0         \n",
      "_________________________________________________________________\n",
      "batch_normalization_1 (Batch (None, 4, 4, 128)         512       \n",
      "_________________________________________________________________\n",
      "conv2d_4 (Conv2D)            (None, 2, 2, 256)         295168    \n",
      "_________________________________________________________________\n",
      "max_pooling2d_2 (MaxPooling2 (None, 1, 1, 256)         0         \n",
      "_________________________________________________________________\n",
      "batch_normalization_2 (Batch (None, 1, 1, 256)         1024      \n",
      "_________________________________________________________________\n",
      "flatten (Flatten)            (None, 256)               0         \n",
      "_________________________________________________________________\n",
      "dense (Dense)                (None, 512)               131584    \n",
      "_________________________________________________________________\n",
      "dense_1 (Dense)              (None, 10)                5130      \n",
      "=================================================================\n",
      "Total params: 692,682\n",
      "Trainable params: 691,786\n",
      "Non-trainable params: 896\n",
      "_________________________________________________________________\n"
     ]
    }
   ],
   "source": [
    "model = CNN.build(SIZE, SIZE, 1)\n",
    "model.summary()\n",
    "\n",
    "early_stopping = keras.callbacks.EarlyStopping(\n",
    "    patience=5,\n",
    "    min_delta=5e-4,\n",
    "    restore_best_weights=True)\n",
    "\n",
    "def scheduler(epoch, lr):\n",
    "    if epoch < 10:\n",
    "        return lr\n",
    "    else:\n",
    "        return lr * tf.math.exp(-0.1)\n",
    "\n",
    "LR = LearningRateScheduler(scheduler)\n",
    "\n",
    "model.compile(\n",
    "    optimizer = 'SGD',\n",
    "    loss='categorical_crossentropy',\n",
    "    metrics=['accuracy'],\n",
    "    steps_per_execution = 8)"
   ]
  },
  {
   "cell_type": "markdown",
   "id": "325f0794",
   "metadata": {
    "papermill": {
     "duration": 0.018481,
     "end_time": "2022-03-23T05:51:43.975609",
     "exception": false,
     "start_time": "2022-03-23T05:51:43.957128",
     "status": "completed"
    },
    "tags": []
   },
   "source": [
    "#### Fit model"
   ]
  },
  {
   "cell_type": "code",
   "execution_count": 9,
   "id": "be987ab6",
   "metadata": {
    "_kg_hide-output": true,
    "execution": {
     "iopub.execute_input": "2022-03-23T05:51:44.019263Z",
     "iopub.status.busy": "2022-03-23T05:51:44.018365Z",
     "iopub.status.idle": "2022-03-23T05:56:37.472928Z",
     "shell.execute_reply": "2022-03-23T05:56:37.473498Z",
     "shell.execute_reply.started": "2022-03-23T05:43:49.269917Z"
    },
    "papermill": {
     "duration": 293.479234,
     "end_time": "2022-03-23T05:56:37.473728",
     "exception": false,
     "start_time": "2022-03-23T05:51:43.994494",
     "status": "completed"
    },
    "tags": []
   },
   "outputs": [
    {
     "name": "stdout",
     "output_type": "stream",
     "text": [
      "Epoch 1/25\n"
     ]
    },
    {
     "name": "stderr",
     "output_type": "stream",
     "text": [
      "2022-03-23 05:51:44.048170: I tensorflow/compiler/mlir/mlir_graph_optimization_pass.cc:185] None of the MLIR Optimization Passes are enabled (registered 2)\n",
      "2022-03-23 05:51:45.927579: I tensorflow/stream_executor/cuda/cuda_dnn.cc:369] Loaded cuDNN version 8005\n"
     ]
    },
    {
     "name": "stdout",
     "output_type": "stream",
     "text": [
      "525/525 [==============================] - 19s 37ms/step - loss: 0.4025 - accuracy: 0.8879 - val_loss: 0.2365 - val_accuracy: 0.9667\n",
      "Epoch 2/25\n",
      "525/525 [==============================] - 11s 22ms/step - loss: 0.1455 - accuracy: 0.9593 - val_loss: 0.0785 - val_accuracy: 0.9763\n",
      "Epoch 3/25\n",
      "525/525 [==============================] - 12s 23ms/step - loss: 0.1049 - accuracy: 0.9697 - val_loss: 0.0729 - val_accuracy: 0.9774\n",
      "Epoch 4/25\n",
      "525/525 [==============================] - 12s 22ms/step - loss: 0.0876 - accuracy: 0.9743 - val_loss: 0.0500 - val_accuracy: 0.9838\n",
      "Epoch 5/25\n",
      "525/525 [==============================] - 11s 21ms/step - loss: 0.0793 - accuracy: 0.9767 - val_loss: 0.0475 - val_accuracy: 0.9856\n",
      "Epoch 6/25\n",
      "525/525 [==============================] - 12s 22ms/step - loss: 0.0684 - accuracy: 0.9796 - val_loss: 0.0476 - val_accuracy: 0.9843\n",
      "Epoch 7/25\n",
      "525/525 [==============================] - 11s 21ms/step - loss: 0.0620 - accuracy: 0.9815 - val_loss: 0.0393 - val_accuracy: 0.9880\n",
      "Epoch 8/25\n",
      "525/525 [==============================] - 11s 21ms/step - loss: 0.0580 - accuracy: 0.9832 - val_loss: 0.0440 - val_accuracy: 0.9865\n",
      "Epoch 9/25\n",
      "525/525 [==============================] - 12s 22ms/step - loss: 0.0554 - accuracy: 0.9831 - val_loss: 0.0391 - val_accuracy: 0.9877\n",
      "Epoch 10/25\n",
      "525/525 [==============================] - 11s 22ms/step - loss: 0.0499 - accuracy: 0.9859 - val_loss: 0.0354 - val_accuracy: 0.9880\n",
      "Epoch 11/25\n",
      "525/525 [==============================] - 11s 21ms/step - loss: 0.0475 - accuracy: 0.9856 - val_loss: 0.0368 - val_accuracy: 0.9895\n",
      "Epoch 12/25\n",
      "525/525 [==============================] - 11s 22ms/step - loss: 0.0431 - accuracy: 0.9874 - val_loss: 0.0365 - val_accuracy: 0.9886\n",
      "Epoch 13/25\n",
      "525/525 [==============================] - 11s 22ms/step - loss: 0.0420 - accuracy: 0.9874 - val_loss: 0.0372 - val_accuracy: 0.9876\n",
      "Epoch 14/25\n",
      "525/525 [==============================] - 12s 23ms/step - loss: 0.0404 - accuracy: 0.9883 - val_loss: 0.0301 - val_accuracy: 0.9899\n",
      "Epoch 15/25\n",
      "525/525 [==============================] - 11s 21ms/step - loss: 0.0408 - accuracy: 0.9876 - val_loss: 0.0310 - val_accuracy: 0.9894\n",
      "Epoch 16/25\n",
      "525/525 [==============================] - 11s 21ms/step - loss: 0.0376 - accuracy: 0.9888 - val_loss: 0.0356 - val_accuracy: 0.9887\n",
      "Epoch 17/25\n",
      "525/525 [==============================] - 11s 22ms/step - loss: 0.0370 - accuracy: 0.9892 - val_loss: 0.0290 - val_accuracy: 0.9910\n",
      "Epoch 18/25\n",
      "525/525 [==============================] - 11s 21ms/step - loss: 0.0342 - accuracy: 0.9900 - val_loss: 0.0290 - val_accuracy: 0.9910\n",
      "Epoch 19/25\n",
      "525/525 [==============================] - 11s 22ms/step - loss: 0.0337 - accuracy: 0.9898 - val_loss: 0.0261 - val_accuracy: 0.9924\n",
      "Epoch 20/25\n",
      "525/525 [==============================] - 11s 22ms/step - loss: 0.0325 - accuracy: 0.9905 - val_loss: 0.0265 - val_accuracy: 0.9919\n",
      "Epoch 21/25\n",
      "525/525 [==============================] - 11s 22ms/step - loss: 0.0340 - accuracy: 0.9895 - val_loss: 0.0251 - val_accuracy: 0.9927\n",
      "Epoch 22/25\n",
      "525/525 [==============================] - 11s 21ms/step - loss: 0.0316 - accuracy: 0.9903 - val_loss: 0.0278 - val_accuracy: 0.9918\n",
      "Epoch 23/25\n",
      "525/525 [==============================] - 12s 22ms/step - loss: 0.0299 - accuracy: 0.9912 - val_loss: 0.0244 - val_accuracy: 0.9924\n",
      "Epoch 24/25\n",
      "525/525 [==============================] - 12s 22ms/step - loss: 0.0311 - accuracy: 0.9905 - val_loss: 0.0256 - val_accuracy: 0.9925\n",
      "Epoch 25/25\n",
      "525/525 [==============================] - 11s 22ms/step - loss: 0.0324 - accuracy: 0.9901 - val_loss: 0.0254 - val_accuracy: 0.9917\n",
      "CPU times: user 5min 58s, sys: 10.6 s, total: 6min 9s\n",
      "Wall time: 4min 53s\n"
     ]
    }
   ],
   "source": [
    "%%time\n",
    "H = model.fit(\n",
    "train, validation_data = valid,\n",
    "epochs=EPOCHS,\n",
    "steps_per_epoch = len(train_X) // BS,\n",
    "callbacks = [early_stopping, LR])"
   ]
  },
  {
   "cell_type": "markdown",
   "id": "e9f69d56",
   "metadata": {
    "papermill": {
     "duration": 0.887251,
     "end_time": "2022-03-23T05:56:38.970471",
     "exception": false,
     "start_time": "2022-03-23T05:56:38.083220",
     "status": "completed"
    },
    "tags": []
   },
   "source": [
    "#### Metrics"
   ]
  },
  {
   "cell_type": "code",
   "execution_count": 10,
   "id": "9a2d86c9",
   "metadata": {
    "execution": {
     "iopub.execute_input": "2022-03-23T05:56:40.563899Z",
     "iopub.status.busy": "2022-03-23T05:56:40.563022Z",
     "iopub.status.idle": "2022-03-23T05:56:41.063470Z",
     "shell.execute_reply": "2022-03-23T05:56:41.063894Z",
     "shell.execute_reply.started": "2022-03-23T05:48:48.709244Z"
    },
    "papermill": {
     "duration": 1.340381,
     "end_time": "2022-03-23T05:56:41.064077",
     "exception": false,
     "start_time": "2022-03-23T05:56:39.723696",
     "status": "completed"
    },
    "tags": []
   },
   "outputs": [
    {
     "data": {
      "image/png": "[encoded data removed]",
      "text/plain": [
       "<Figure size 1440x360 with 2 Axes>"
      ]
     },
     "metadata": {
      "needs_background": "light"
     },
     "output_type": "display_data"
    }
   ],
   "source": [
    "df = pd.DataFrame(H.history)\n",
    "df.index += 1\n",
    "fig = plt.figure(figsize = (20,5))\n",
    "fig.suptitle('Validation metrics')\n",
    "ax1 = fig.add_subplot(121)\n",
    "ax2 = fig.add_subplot(122)\n",
    "ax1.set_xticks(range(len(df)+1))\n",
    "ax2.set_xticks(range(len(df)+1))\n",
    "df[['loss', 'val_loss']].plot(title=\"Cross Entropy\", grid=True, ax=ax1)\n",
    "df[['accuracy', 'val_accuracy']].plot(title=\"Accuracy\",grid=True, ax=ax2)\n",
    "plt.show()"
   ]
  },
  {
   "cell_type": "markdown",
   "id": "4b6a71e2",
   "metadata": {
    "papermill": {
     "duration": 0.533832,
     "end_time": "2022-03-23T05:56:42.133298",
     "exception": false,
     "start_time": "2022-03-23T05:56:41.599466",
     "status": "completed"
    },
    "tags": []
   },
   "source": [
    "#### Model serialization"
   ]
  },
  {
   "cell_type": "code",
   "execution_count": 11,
   "id": "b7764828",
   "metadata": {
    "execution": {
     "iopub.execute_input": "2022-03-23T05:56:43.206686Z",
     "iopub.status.busy": "2022-03-23T05:56:43.206011Z",
     "iopub.status.idle": "2022-03-23T05:56:43.245036Z",
     "shell.execute_reply": "2022-03-23T05:56:43.245415Z",
     "shell.execute_reply.started": "2022-03-23T05:41:29.669049Z"
    },
    "papermill": {
     "duration": 0.577267,
     "end_time": "2022-03-23T05:56:43.245592",
     "exception": false,
     "start_time": "2022-03-23T05:56:42.668325",
     "status": "completed"
    },
    "tags": []
   },
   "outputs": [],
   "source": [
    "model.save('model.h5', save_format='h5')"
   ]
  },
  {
   "cell_type": "markdown",
   "id": "69955cd7",
   "metadata": {
    "papermill": {
     "duration": 0.539894,
     "end_time": "2022-03-23T05:56:44.315682",
     "exception": false,
     "start_time": "2022-03-23T05:56:43.775788",
     "status": "completed"
    },
    "tags": []
   },
   "source": [
    "#### Predictions"
   ]
  },
  {
   "cell_type": "code",
   "execution_count": 12,
   "id": "c5152bc6",
   "metadata": {
    "execution": {
     "iopub.execute_input": "2022-03-23T05:56:45.383478Z",
     "iopub.status.busy": "2022-03-23T05:56:45.382597Z",
     "iopub.status.idle": "2022-03-23T05:56:48.646458Z",
     "shell.execute_reply": "2022-03-23T05:56:48.646049Z",
     "shell.execute_reply.started": "2022-03-23T05:49:22.430527Z"
    },
    "papermill": {
     "duration": 3.800479,
     "end_time": "2022-03-23T05:56:48.646607",
     "exception": false,
     "start_time": "2022-03-23T05:56:44.846128",
     "status": "completed"
    },
    "tags": []
   },
   "outputs": [
    {
     "data": {
      "text/html": [
       "<div>\n",
       "<style scoped>\n",
       "    .dataframe tbody tr th:only-of-type {\n",
       "        vertical-align: middle;\n",
       "    }\n",
       "\n",
       "    .dataframe tbody tr th {\n",
       "        vertical-align: top;\n",
       "    }\n",
       "\n",
       "    .dataframe thead th {\n",
       "        text-align: right;\n",
       "    }\n",
       "</style>\n",
       "<table border=\"1\" class=\"dataframe\">\n",
       "  <thead>\n",
       "    <tr style=\"text-align: right;\">\n",
       "      <th></th>\n",
       "      <th>ImageId</th>\n",
       "      <th>Label</th>\n",
       "    </tr>\n",
       "  </thead>\n",
       "  <tbody>\n",
       "    <tr>\n",
       "      <th>0</th>\n",
       "      <td>1</td>\n",
       "      <td>2</td>\n",
       "    </tr>\n",
       "    <tr>\n",
       "      <th>1</th>\n",
       "      <td>2</td>\n",
       "      <td>0</td>\n",
       "    </tr>\n",
       "    <tr>\n",
       "      <th>2</th>\n",
       "      <td>3</td>\n",
       "      <td>9</td>\n",
       "    </tr>\n",
       "    <tr>\n",
       "      <th>3</th>\n",
       "      <td>4</td>\n",
       "      <td>0</td>\n",
       "    </tr>\n",
       "    <tr>\n",
       "      <th>4</th>\n",
       "      <td>5</td>\n",
       "      <td>3</td>\n",
       "    </tr>\n",
       "  </tbody>\n",
       "</table>\n",
       "</div>"
      ],
      "text/plain": [
       "   ImageId  Label\n",
       "0        1      2\n",
       "1        2      0\n",
       "2        3      9\n",
       "3        4      0\n",
       "4        5      3"
      ]
     },
     "execution_count": 12,
     "metadata": {},
     "output_type": "execute_result"
    }
   ],
   "source": [
    "pred = model.predict(test_X)\n",
    "classes = pred.argmax(axis=-1)\n",
    "\n",
    "sub = pd.read_csv('../input/digit-recognizer/sample_submission.csv')\n",
    "sub.Label = classes\n",
    "sub.head()"
   ]
  },
  {
   "cell_type": "markdown",
   "id": "e3694761",
   "metadata": {
    "papermill": {
     "duration": 0.789177,
     "end_time": "2022-03-23T05:56:49.976951",
     "exception": false,
     "start_time": "2022-03-23T05:56:49.187774",
     "status": "completed"
    },
    "tags": []
   },
   "source": [
    " #### Submission"
   ]
  },
  {
   "cell_type": "code",
   "execution_count": 13,
   "id": "bdd978fa",
   "metadata": {
    "execution": {
     "iopub.execute_input": "2022-03-23T05:56:51.063845Z",
     "iopub.status.busy": "2022-03-23T05:56:51.062832Z",
     "iopub.status.idle": "2022-03-23T05:56:51.106387Z",
     "shell.execute_reply": "2022-03-23T05:56:51.106801Z",
     "shell.execute_reply.started": "2022-03-23T05:49:26.722082Z"
    },
    "papermill": {
     "duration": 0.589149,
     "end_time": "2022-03-23T05:56:51.106958",
     "exception": false,
     "start_time": "2022-03-23T05:56:50.517809",
     "status": "completed"
    },
    "tags": []
   },
   "outputs": [],
   "source": [
    "sub.to_csv('submission.csv', index = False)"
   ]
  },
  {
   "cell_type": "markdown",
   "id": "26043ac3",
   "metadata": {
    "papermill": {
     "duration": 0.539918,
     "end_time": "2022-03-23T05:56:52.234600",
     "exception": false,
     "start_time": "2022-03-23T05:56:51.694682",
     "status": "completed"
    },
    "tags": []
   },
   "source": [
    "Model arhitecture taken from [**KASSEM Notebook**](https://www.kaggle.com/code/elcaiseri/mnist-simple-cnn-keras-accuracy-0-99-top-1/notebook)"
   ]
  }
 ],
 "metadata": {
  "kernelspec": {
   "display_name": "Python 3",
   "language": "python",
   "name": "python3"
  },
  "language_info": {
   "codemirror_mode": {
    "name": "ipython",
    "version": 3
   },
   "file_extension": ".py",
   "mimetype": "text/x-python",
   "name": "python",
   "nbconvert_exporter": "python",
   "pygments_lexer": "ipython3",
   "version": "3.7.12"
  },
  "papermill": {
   "default_parameters": {},
   "duration": 335.69703,
   "end_time": "2022-03-23T05:56:56.306323",
   "environment_variables": {},
   "exception": null,
   "input_path": "__notebook__.ipynb",
   "output_path": "__notebook__.ipynb",
   "parameters": {},
   "start_time": "2022-03-23T05:51:20.609293",
   "version": "2.3.3"
  }
 },
 "nbformat": 4,
 "nbformat_minor": 5
}
