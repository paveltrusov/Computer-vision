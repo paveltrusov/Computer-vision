{
 "cells": [
  {
   "cell_type": "markdown",
   "id": "a70ac672",
   "metadata": {
    "papermill": {
     "duration": 0.020413,
     "end_time": "2022-03-24T08:51:44.232666",
     "exception": false,
     "start_time": "2022-03-24T08:51:44.212253",
     "status": "completed"
    },
    "tags": []
   },
   "source": [
    "### Tensorflow data pipeline\n",
    "The point of this notebook is to demonstrate how tf.data pipeline can increase the speed compare to Keras ImageDataGenerator.<br>\n",
    "Using tf.data I was able to increase GPU usage from 15-20% to 40-45% and reduce training time by approximately **3 times !**"
   ]
  },
  {
   "cell_type": "code",
   "execution_count": 1,
   "id": "4fcffffb",
   "metadata": {
    "_cell_guid": "b1076dfc-b9ad-4769-8c92-a6c4dae69d19",
    "_uuid": "8f2839f25d086af736a60e9eeb907d3b93b6e0e5",
    "execution": {
     "iopub.execute_input": "2022-03-24T08:51:44.294959Z",
     "iopub.status.busy": "2022-03-24T08:51:44.293420Z",
     "iopub.status.idle": "2022-03-24T08:51:50.325970Z",
     "shell.execute_reply": "2022-03-24T08:51:50.324981Z"
    },
    "papermill": {
     "duration": 6.072798,
     "end_time": "2022-03-24T08:51:50.326142",
     "exception": false,
     "start_time": "2022-03-24T08:51:44.253344",
     "status": "completed"
    },
    "tags": []
   },
   "outputs": [],
   "source": [
    "import numpy as np\n",
    "import pandas as pd\n",
    "import time\n",
    "import matplotlib.pyplot as plt\n",
    "\n",
    "from sklearn.model_selection import train_test_split\n",
    "\n",
    "import tensorflow as tf\n",
    "import tensorflow_addons as tfa\n",
    "from tensorflow import keras\n",
    "from tensorflow.keras.layers import Input\n",
    "from tensorflow.keras.layers import RandomTranslation, RandomZoom, RandomRotation\n",
    "from tensorflow.keras.layers import Conv2D, MaxPooling2D, BatchNormalization\n",
    "from tensorflow.keras.layers import Flatten, Dense, Dropout\n",
    "from keras.callbacks import EarlyStopping, LearningRateScheduler\n",
    "from tensorflow.keras.optimizers import SGD\n",
    "\n",
    "from tensorflow.data import AUTOTUNE\n",
    "from tensorflow.keras.utils import to_categorical\n",
    "\n",
    "from numpy.random import seed\n",
    "from tensorflow.random import set_seed"
   ]
  },
  {
   "cell_type": "markdown",
   "id": "64e713f3",
   "metadata": {
    "papermill": {
     "duration": 0.018757,
     "end_time": "2022-03-24T08:51:50.363930",
     "exception": false,
     "start_time": "2022-03-24T08:51:50.345173",
     "status": "completed"
    },
    "tags": []
   },
   "source": [
    "\n",
    "#### Set size and random state"
   ]
  },
  {
   "cell_type": "code",
   "execution_count": 2,
   "id": "41f86bba",
   "metadata": {
    "execution": {
     "iopub.execute_input": "2022-03-24T08:51:50.406556Z",
     "iopub.status.busy": "2022-03-24T08:51:50.405666Z",
     "iopub.status.idle": "2022-03-24T08:51:50.408216Z",
     "shell.execute_reply": "2022-03-24T08:51:50.407813Z",
     "shell.execute_reply.started": "2022-03-24T08:16:11.506851Z"
    },
    "papermill": {
     "duration": 0.025476,
     "end_time": "2022-03-24T08:51:50.408324",
     "exception": false,
     "start_time": "2022-03-24T08:51:50.382848",
     "status": "completed"
    },
    "tags": []
   },
   "outputs": [],
   "source": [
    "SIZE = 28\n",
    "SEED = 17\n",
    "\n",
    "set_seed(SEED)\n",
    "seed(SEED)"
   ]
  },
  {
   "cell_type": "markdown",
   "id": "840fec18",
   "metadata": {
    "papermill": {
     "duration": 0.020442,
     "end_time": "2022-03-24T08:51:50.447648",
     "exception": false,
     "start_time": "2022-03-24T08:51:50.427206",
     "status": "completed"
    },
    "tags": []
   },
   "source": [
    "### Data loading"
   ]
  },
  {
   "cell_type": "code",
   "execution_count": 3,
   "id": "4a91eeae",
   "metadata": {
    "execution": {
     "iopub.execute_input": "2022-03-24T08:51:50.489064Z",
     "iopub.status.busy": "2022-03-24T08:51:50.488268Z",
     "iopub.status.idle": "2022-03-24T08:51:55.312817Z",
     "shell.execute_reply": "2022-03-24T08:51:55.313262Z",
     "shell.execute_reply.started": "2022-03-24T08:16:11.512466Z"
    },
    "papermill": {
     "duration": 4.845964,
     "end_time": "2022-03-24T08:51:55.313431",
     "exception": false,
     "start_time": "2022-03-24T08:51:50.467467",
     "status": "completed"
    },
    "tags": []
   },
   "outputs": [
    {
     "name": "stdout",
     "output_type": "stream",
     "text": [
      "(42000, 785) (28000, 784)\n"
     ]
    }
   ],
   "source": [
    "train = pd.read_csv('../input/digit-recognizer/train.csv').to_numpy()\n",
    "test = pd.read_csv('../input/digit-recognizer/test.csv').to_numpy()\n",
    "print(train.shape, test.shape)"
   ]
  },
  {
   "cell_type": "markdown",
   "id": "6d5eb942",
   "metadata": {
    "papermill": {
     "duration": 0.019513,
     "end_time": "2022-03-24T08:51:55.352581",
     "exception": false,
     "start_time": "2022-03-24T08:51:55.333068",
     "status": "completed"
    },
    "tags": []
   },
   "source": [
    "### Data processing\n",
    "As you can see I'm doing all 'static' operations (rescale, reshape, etc.) in advance. I could apply the scaling later  during augmentation using the GPU, but this approach allows me to use the GPU resources exclusively for training"
   ]
  },
  {
   "cell_type": "code",
   "execution_count": 4,
   "id": "5da630bc",
   "metadata": {
    "execution": {
     "iopub.execute_input": "2022-03-24T08:51:55.394436Z",
     "iopub.status.busy": "2022-03-24T08:51:55.393654Z",
     "iopub.status.idle": "2022-03-24T08:51:56.441316Z",
     "shell.execute_reply": "2022-03-24T08:51:56.441771Z",
     "shell.execute_reply.started": "2022-03-24T08:16:11.512466Z"
    },
    "papermill": {
     "duration": 1.069961,
     "end_time": "2022-03-24T08:51:56.441932",
     "exception": false,
     "start_time": "2022-03-24T08:51:55.371971",
     "status": "completed"
    },
    "tags": []
   },
   "outputs": [
    {
     "name": "stdout",
     "output_type": "stream",
     "text": [
      "(33600, 28, 28, 1) (33600, 10) (8400, 28, 28, 1) (8400, 10) (28000, 28, 28, 1)\n"
     ]
    }
   ],
   "source": [
    "train_Y = to_categorical(train[:,0])\n",
    "\n",
    "train_X = train[:,1:] / 255.0\n",
    "test_X = test / 255.0\n",
    "\n",
    "train_X = train_X.reshape(-1, SIZE, SIZE, 1)\n",
    "test_X = test_X.reshape(-1, SIZE, SIZE, 1)\n",
    "\n",
    "train_X, valid_X, train_Y, valid_Y = train_test_split(train_X, train_Y, test_size = 0.2,\n",
    "                                                     stratify = train_Y, random_state = SEED)\n",
    "\n",
    "print(train_X.shape, train_Y.shape, valid_X.shape, valid_Y.shape, test_X.shape)"
   ]
  },
  {
   "cell_type": "markdown",
   "id": "09fe6f9f",
   "metadata": {
    "papermill": {
     "duration": 0.019398,
     "end_time": "2022-03-24T08:51:56.480947",
     "exception": false,
     "start_time": "2022-03-24T08:51:56.461549",
     "status": "completed"
    },
    "tags": []
   },
   "source": [
    "#### Set constants"
   ]
  },
  {
   "cell_type": "code",
   "execution_count": 5,
   "id": "c8fb7607",
   "metadata": {
    "execution": {
     "iopub.execute_input": "2022-03-24T08:51:56.525321Z",
     "iopub.status.busy": "2022-03-24T08:51:56.524431Z",
     "iopub.status.idle": "2022-03-24T08:51:56.526810Z",
     "shell.execute_reply": "2022-03-24T08:51:56.526276Z",
     "shell.execute_reply.started": "2022-03-24T08:16:17.431157Z"
    },
    "papermill": {
     "duration": 0.026038,
     "end_time": "2022-03-24T08:51:56.526933",
     "exception": false,
     "start_time": "2022-03-24T08:51:56.500895",
     "status": "completed"
    },
    "tags": []
   },
   "outputs": [],
   "source": [
    "BS = 64\n",
    "EPOCHS = 50\n",
    "\n",
    "STEPS = len(train_X) // BS\n",
    "LABELS = 10"
   ]
  },
  {
   "cell_type": "markdown",
   "id": "317df95f",
   "metadata": {
    "papermill": {
     "duration": 0.021084,
     "end_time": "2022-03-24T08:51:56.567773",
     "exception": false,
     "start_time": "2022-03-24T08:51:56.546689",
     "status": "completed"
    },
    "tags": []
   },
   "source": [
    "#### Build TensorFlow input pipelines"
   ]
  },
  {
   "cell_type": "code",
   "execution_count": 6,
   "id": "3edcd850",
   "metadata": {
    "_kg_hide-output": true,
    "execution": {
     "iopub.execute_input": "2022-03-24T08:51:56.759351Z",
     "iopub.status.busy": "2022-03-24T08:51:56.758501Z",
     "iopub.status.idle": "2022-03-24T08:51:59.339406Z",
     "shell.execute_reply": "2022-03-24T08:51:59.338566Z"
    },
    "papermill": {
     "duration": 2.752485,
     "end_time": "2022-03-24T08:51:59.339550",
     "exception": false,
     "start_time": "2022-03-24T08:51:56.587065",
     "status": "completed"
    },
    "tags": []
   },
   "outputs": [
    {
     "name": "stderr",
     "output_type": "stream",
     "text": [
      "2022-03-24 08:51:56.669200: I tensorflow/stream_executor/cuda/cuda_gpu_executor.cc:937] successful NUMA node read from SysFS had negative value (-1), but there must be at least one NUMA node, so returning NUMA node zero\n",
      "2022-03-24 08:51:56.754868: I tensorflow/stream_executor/cuda/cuda_gpu_executor.cc:937] successful NUMA node read from SysFS had negative value (-1), but there must be at least one NUMA node, so returning NUMA node zero\n",
      "2022-03-24 08:51:56.755672: I tensorflow/stream_executor/cuda/cuda_gpu_executor.cc:937] successful NUMA node read from SysFS had negative value (-1), but there must be at least one NUMA node, so returning NUMA node zero\n",
      "2022-03-24 08:51:56.759364: I tensorflow/core/platform/cpu_feature_guard.cc:142] This TensorFlow binary is optimized with oneAPI Deep Neural Network Library (oneDNN) to use the following CPU instructions in performance-critical operations:  AVX2 AVX512F FMA\n",
      "To enable them in other operations, rebuild TensorFlow with the appropriate compiler flags.\n",
      "2022-03-24 08:51:56.760498: I tensorflow/stream_executor/cuda/cuda_gpu_executor.cc:937] successful NUMA node read from SysFS had negative value (-1), but there must be at least one NUMA node, so returning NUMA node zero\n",
      "2022-03-24 08:51:56.761408: I tensorflow/stream_executor/cuda/cuda_gpu_executor.cc:937] successful NUMA node read from SysFS had negative value (-1), but there must be at least one NUMA node, so returning NUMA node zero\n",
      "2022-03-24 08:51:56.762281: I tensorflow/stream_executor/cuda/cuda_gpu_executor.cc:937] successful NUMA node read from SysFS had negative value (-1), but there must be at least one NUMA node, so returning NUMA node zero\n",
      "2022-03-24 08:51:58.551407: I tensorflow/stream_executor/cuda/cuda_gpu_executor.cc:937] successful NUMA node read from SysFS had negative value (-1), but there must be at least one NUMA node, so returning NUMA node zero\n",
      "2022-03-24 08:51:58.552226: I tensorflow/stream_executor/cuda/cuda_gpu_executor.cc:937] successful NUMA node read from SysFS had negative value (-1), but there must be at least one NUMA node, so returning NUMA node zero\n",
      "2022-03-24 08:51:58.552872: I tensorflow/stream_executor/cuda/cuda_gpu_executor.cc:937] successful NUMA node read from SysFS had negative value (-1), but there must be at least one NUMA node, so returning NUMA node zero\n",
      "2022-03-24 08:51:58.553434: I tensorflow/core/common_runtime/gpu/gpu_device.cc:1510] Created device /job:localhost/replica:0/task:0/device:GPU:0 with 15403 MB memory:  -> device: 0, name: Tesla P100-PCIE-16GB, pci bus id: 0000:00:04.0, compute capability: 6.0\n"
     ]
    }
   ],
   "source": [
    "train_ds = tf.data.Dataset.from_tensor_slices((train_X, train_Y))\n",
    "valid_ds = tf.data.Dataset.from_tensor_slices((valid_X, valid_Y))\n",
    "\n",
    "train_ds = train_ds.shuffle(STEPS * BS).batch(BS).repeat().prefetch(AUTOTUNE)\n",
    "valid_ds = valid_ds.batch(BS)"
   ]
  },
  {
   "cell_type": "markdown",
   "id": "3cf1fb8c",
   "metadata": {
    "papermill": {
     "duration": 0.019943,
     "end_time": "2022-03-24T08:51:59.380149",
     "exception": false,
     "start_time": "2022-03-24T08:51:59.360206",
     "status": "completed"
    },
    "tags": []
   },
   "source": [
    "#### Model"
   ]
  },
  {
   "cell_type": "markdown",
   "id": "ed46b809",
   "metadata": {
    "papermill": {
     "duration": 0.020718,
     "end_time": "2022-03-24T08:51:59.420915",
     "exception": false,
     "start_time": "2022-03-24T08:51:59.400197",
     "status": "completed"
    },
    "tags": []
   },
   "source": [
    "All 'dynamic' transformation are applying inside of the model. Plase note, that these layers are only active for *fit* calls, but not for *evaluate* or *predict*"
   ]
  },
  {
   "cell_type": "code",
   "execution_count": 7,
   "id": "4755368f",
   "metadata": {
    "execution": {
     "iopub.execute_input": "2022-03-24T08:51:59.471455Z",
     "iopub.status.busy": "2022-03-24T08:51:59.470681Z",
     "iopub.status.idle": "2022-03-24T08:51:59.473107Z",
     "shell.execute_reply": "2022-03-24T08:51:59.472709Z",
     "shell.execute_reply.started": "2022-03-24T08:16:20.533794Z"
    },
    "papermill": {
     "duration": 0.032289,
     "end_time": "2022-03-24T08:51:59.473215",
     "exception": false,
     "start_time": "2022-03-24T08:51:59.440926",
     "status": "completed"
    },
    "tags": []
   },
   "outputs": [],
   "source": [
    "class Model:\n",
    "    @staticmethod\n",
    "    def build(height, width, depth):\n",
    "        model = keras.Sequential()\n",
    "        \n",
    "        #Input\n",
    "        model.add(Input((height, width, depth)))\n",
    "\n",
    "        #Augmentation layers (applying only call to model.fit)\n",
    "        model.add(RandomTranslation(0.05,0.05,seed=SEED)) \n",
    "        model.add(RandomZoom(0.01, 0.01, seed=SEED))\n",
    "        model.add(RandomRotation(0.125, seed=SEED)) \n",
    "        \n",
    "        #CNN layers\n",
    "        model.add(Conv2D(64, (3, 3), activation='relu'))\n",
    "        model.add(Conv2D(64, (3, 3), activation='relu'))\n",
    "        model.add(MaxPooling2D((2, 2)))\n",
    "        model.add(BatchNormalization())\n",
    "        \n",
    "        model.add(Conv2D(128, (3, 3), activation='relu'))\n",
    "        model.add(Conv2D(128, (3, 3), activation='relu'))\n",
    "        model.add(MaxPooling2D((2, 2)))\n",
    "        model.add(BatchNormalization())\n",
    "        \n",
    "        model.add(Conv2D(256, (3, 3), activation='relu'))\n",
    "        model.add(MaxPooling2D((2, 2)))\n",
    "        model.add(BatchNormalization())\n",
    "        \n",
    "        model.add(Flatten())\n",
    "        \n",
    "        model.add(Dense(512, activation = 'relu'))\n",
    "        model.add(Dense(10, activation = 'softmax'))\n",
    "        \n",
    "        return model"
   ]
  },
  {
   "cell_type": "markdown",
   "id": "abbcd186",
   "metadata": {
    "papermill": {
     "duration": 0.020061,
     "end_time": "2022-03-24T08:51:59.513230",
     "exception": false,
     "start_time": "2022-03-24T08:51:59.493169",
     "status": "completed"
    },
    "tags": []
   },
   "source": [
    "#### Build and compile model"
   ]
  },
  {
   "cell_type": "code",
   "execution_count": 8,
   "id": "79628c6f",
   "metadata": {
    "_kg_hide-output": true,
    "execution": {
     "iopub.execute_input": "2022-03-24T08:51:59.559530Z",
     "iopub.status.busy": "2022-03-24T08:51:59.558935Z",
     "iopub.status.idle": "2022-03-24T08:51:59.871963Z",
     "shell.execute_reply": "2022-03-24T08:51:59.871489Z",
     "shell.execute_reply.started": "2022-03-24T08:25:38.298174Z"
    },
    "papermill": {
     "duration": 0.338695,
     "end_time": "2022-03-24T08:51:59.872091",
     "exception": false,
     "start_time": "2022-03-24T08:51:59.533396",
     "status": "completed"
    },
    "tags": []
   },
   "outputs": [
    {
     "name": "stdout",
     "output_type": "stream",
     "text": [
      "Model: \"sequential\"\n",
      "_________________________________________________________________\n",
      "Layer (type)                 Output Shape              Param #   \n",
      "=================================================================\n",
      "random_translation (RandomTr (None, 28, 28, 1)         0         \n",
      "_________________________________________________________________\n",
      "random_zoom (RandomZoom)     (None, 28, 28, 1)         0         \n",
      "_________________________________________________________________\n",
      "random_rotation (RandomRotat (None, 28, 28, 1)         0         \n",
      "_________________________________________________________________\n",
      "conv2d (Conv2D)              (None, 26, 26, 64)        640       \n",
      "_________________________________________________________________\n",
      "conv2d_1 (Conv2D)            (None, 24, 24, 64)        36928     \n",
      "_________________________________________________________________\n",
      "max_pooling2d (MaxPooling2D) (None, 12, 12, 64)        0         \n",
      "_________________________________________________________________\n",
      "batch_normalization (BatchNo (None, 12, 12, 64)        256       \n",
      "_________________________________________________________________\n",
      "conv2d_2 (Conv2D)            (None, 10, 10, 128)       73856     \n",
      "_________________________________________________________________\n",
      "conv2d_3 (Conv2D)            (None, 8, 8, 128)         147584    \n",
      "_________________________________________________________________\n",
      "max_pooling2d_1 (MaxPooling2 (None, 4, 4, 128)         0         \n",
      "_________________________________________________________________\n",
      "batch_normalization_1 (Batch (None, 4, 4, 128)         512       \n",
      "_________________________________________________________________\n",
      "conv2d_4 (Conv2D)            (None, 2, 2, 256)         295168    \n",
      "_________________________________________________________________\n",
      "max_pooling2d_2 (MaxPooling2 (None, 1, 1, 256)         0         \n",
      "_________________________________________________________________\n",
      "batch_normalization_2 (Batch (None, 1, 1, 256)         1024      \n",
      "_________________________________________________________________\n",
      "flatten (Flatten)            (None, 256)               0         \n",
      "_________________________________________________________________\n",
      "dense (Dense)                (None, 512)               131584    \n",
      "_________________________________________________________________\n",
      "dense_1 (Dense)              (None, 10)                5130      \n",
      "=================================================================\n",
      "Total params: 692,682\n",
      "Trainable params: 691,786\n",
      "Non-trainable params: 896\n",
      "_________________________________________________________________\n"
     ]
    }
   ],
   "source": [
    "model = Model.build(SIZE, SIZE, 1)\n",
    "model.summary()\n",
    "\n",
    "optimizer = SGD(learning_rate = 5e-4)\n",
    "\n",
    "early_stopping = keras.callbacks.EarlyStopping(\n",
    "    patience = 5,\n",
    "    min_delta = 1e-3,\n",
    "    restore_best_weights=True)\n",
    "\n",
    "def scheduler(epoch, lr):\n",
    "    if epoch < 10:\n",
    "        return lr\n",
    "    else:\n",
    "        return lr * tf.math.exp(-0.1)\n",
    "\n",
    "LR = LearningRateScheduler(scheduler)\n",
    "\n",
    "model.compile(\n",
    "    optimizer = 'SGD',\n",
    "    loss='categorical_crossentropy',\n",
    "    metrics=['accuracy'],\n",
    "    steps_per_execution = 1)"
   ]
  },
  {
   "cell_type": "markdown",
   "id": "0070a276",
   "metadata": {
    "papermill": {
     "duration": 0.020313,
     "end_time": "2022-03-24T08:51:59.913288",
     "exception": false,
     "start_time": "2022-03-24T08:51:59.892975",
     "status": "completed"
    },
    "tags": []
   },
   "source": [
    "#### Fit model"
   ]
  },
  {
   "cell_type": "code",
   "execution_count": 9,
   "id": "540bbd68",
   "metadata": {
    "_kg_hide-output": true,
    "execution": {
     "iopub.execute_input": "2022-03-24T08:51:59.960004Z",
     "iopub.status.busy": "2022-03-24T08:51:59.959202Z",
     "iopub.status.idle": "2022-03-24T08:53:51.119952Z",
     "shell.execute_reply": "2022-03-24T08:53:51.120385Z",
     "shell.execute_reply.started": "2022-03-24T08:25:52.672099Z"
    },
    "papermill": {
     "duration": 111.186586,
     "end_time": "2022-03-24T08:53:51.120548",
     "exception": false,
     "start_time": "2022-03-24T08:51:59.933962",
     "status": "completed"
    },
    "tags": []
   },
   "outputs": [
    {
     "name": "stdout",
     "output_type": "stream",
     "text": [
      "Epoch 1/50\n"
     ]
    },
    {
     "name": "stderr",
     "output_type": "stream",
     "text": [
      "2022-03-24 08:52:00.896596: I tensorflow/compiler/mlir/mlir_graph_optimization_pass.cc:185] None of the MLIR Optimization Passes are enabled (registered 2)\n",
      "2022-03-24 08:52:01.916527: I tensorflow/stream_executor/cuda/cuda_dnn.cc:369] Loaded cuDNN version 8005\n"
     ]
    },
    {
     "name": "stdout",
     "output_type": "stream",
     "text": [
      "525/525 [==============================] - 13s 10ms/step - loss: 0.3888 - accuracy: 0.8930 - val_loss: 0.2131 - val_accuracy: 0.9670\n",
      "Epoch 2/50\n",
      "525/525 [==============================] - 4s 8ms/step - loss: 0.1425 - accuracy: 0.9592 - val_loss: 0.0817 - val_accuracy: 0.9744\n",
      "Epoch 3/50\n",
      "525/525 [==============================] - 5s 9ms/step - loss: 0.1066 - accuracy: 0.9698 - val_loss: 0.0651 - val_accuracy: 0.9802\n",
      "Epoch 4/50\n",
      "525/525 [==============================] - 4s 8ms/step - loss: 0.0899 - accuracy: 0.9734 - val_loss: 0.0583 - val_accuracy: 0.9815\n",
      "Epoch 5/50\n",
      "525/525 [==============================] - 4s 8ms/step - loss: 0.0785 - accuracy: 0.9766 - val_loss: 0.0579 - val_accuracy: 0.9821\n",
      "Epoch 6/50\n",
      "525/525 [==============================] - 4s 8ms/step - loss: 0.0716 - accuracy: 0.9786 - val_loss: 0.0518 - val_accuracy: 0.9833\n",
      "Epoch 7/50\n",
      "525/525 [==============================] - 4s 8ms/step - loss: 0.0659 - accuracy: 0.9807 - val_loss: 0.0446 - val_accuracy: 0.9868\n",
      "Epoch 8/50\n",
      "525/525 [==============================] - 5s 10ms/step - loss: 0.0598 - accuracy: 0.9824 - val_loss: 0.0476 - val_accuracy: 0.9855\n",
      "Epoch 9/50\n",
      "525/525 [==============================] - 4s 8ms/step - loss: 0.0561 - accuracy: 0.9836 - val_loss: 0.0464 - val_accuracy: 0.9858\n",
      "Epoch 10/50\n",
      "525/525 [==============================] - 5s 9ms/step - loss: 0.0540 - accuracy: 0.9833 - val_loss: 0.0409 - val_accuracy: 0.9877\n",
      "Epoch 11/50\n",
      "525/525 [==============================] - 4s 8ms/step - loss: 0.0494 - accuracy: 0.9851 - val_loss: 0.0344 - val_accuracy: 0.9888\n",
      "Epoch 12/50\n",
      "525/525 [==============================] - 4s 8ms/step - loss: 0.0479 - accuracy: 0.9863 - val_loss: 0.0416 - val_accuracy: 0.9880\n",
      "Epoch 13/50\n",
      "525/525 [==============================] - 4s 9ms/step - loss: 0.0456 - accuracy: 0.9863 - val_loss: 0.0330 - val_accuracy: 0.9902\n",
      "Epoch 14/50\n",
      "525/525 [==============================] - 4s 8ms/step - loss: 0.0446 - accuracy: 0.9866 - val_loss: 0.0314 - val_accuracy: 0.9890\n",
      "Epoch 15/50\n",
      "525/525 [==============================] - 5s 9ms/step - loss: 0.0417 - accuracy: 0.9875 - val_loss: 0.0319 - val_accuracy: 0.9902\n",
      "Epoch 16/50\n",
      "525/525 [==============================] - 4s 8ms/step - loss: 0.0404 - accuracy: 0.9882 - val_loss: 0.0295 - val_accuracy: 0.9902\n",
      "Epoch 17/50\n",
      "525/525 [==============================] - 4s 8ms/step - loss: 0.0384 - accuracy: 0.9883 - val_loss: 0.0332 - val_accuracy: 0.9887\n",
      "Epoch 18/50\n",
      "525/525 [==============================] - 5s 9ms/step - loss: 0.0384 - accuracy: 0.9887 - val_loss: 0.0272 - val_accuracy: 0.9910\n",
      "Epoch 19/50\n",
      "525/525 [==============================] - 4s 9ms/step - loss: 0.0368 - accuracy: 0.9893 - val_loss: 0.0270 - val_accuracy: 0.9915\n",
      "Epoch 20/50\n",
      "525/525 [==============================] - 4s 9ms/step - loss: 0.0352 - accuracy: 0.9899 - val_loss: 0.0279 - val_accuracy: 0.9918\n",
      "Epoch 21/50\n",
      "525/525 [==============================] - 4s 8ms/step - loss: 0.0339 - accuracy: 0.9900 - val_loss: 0.0294 - val_accuracy: 0.9908\n",
      "Epoch 22/50\n",
      "525/525 [==============================] - 5s 9ms/step - loss: 0.0337 - accuracy: 0.9896 - val_loss: 0.0288 - val_accuracy: 0.9911\n",
      "Epoch 23/50\n",
      "525/525 [==============================] - 5s 9ms/step - loss: 0.0310 - accuracy: 0.9907 - val_loss: 0.0271 - val_accuracy: 0.9915\n",
      "CPU times: user 1min 49s, sys: 10.4 s, total: 2min\n",
      "Wall time: 1min 51s\n"
     ]
    }
   ],
   "source": [
    "%%time\n",
    "H = model.fit(\n",
    "train_ds, validation_data = valid_ds,\n",
    "epochs=EPOCHS,\n",
    "steps_per_epoch = STEPS,\n",
    "callbacks = [early_stopping, LR])"
   ]
  },
  {
   "cell_type": "markdown",
   "id": "28a46702",
   "metadata": {
    "papermill": {
     "duration": 0.57336,
     "end_time": "2022-03-24T08:53:52.267067",
     "exception": false,
     "start_time": "2022-03-24T08:53:51.693707",
     "status": "completed"
    },
    "tags": []
   },
   "source": [
    "#### Metrics"
   ]
  },
  {
   "cell_type": "code",
   "execution_count": 10,
   "id": "625549bd",
   "metadata": {
    "execution": {
     "iopub.execute_input": "2022-03-24T08:53:53.429683Z",
     "iopub.status.busy": "2022-03-24T08:53:53.427081Z",
     "iopub.status.idle": "2022-03-24T08:54:24.060717Z",
     "shell.execute_reply": "2022-03-24T08:54:24.061151Z",
     "shell.execute_reply.started": "2022-03-24T08:27:47.086930Z"
    },
    "papermill": {
     "duration": 31.21905,
     "end_time": "2022-03-24T08:54:24.061294",
     "exception": false,
     "start_time": "2022-03-24T08:53:52.842244",
     "status": "completed"
    },
    "tags": []
   },
   "outputs": [
    {
     "data": {
      "image/png": "[encoded data removed]",
      "text/plain": [
       "<Figure size 1440x360 with 2 Axes>"
      ]
     },
     "metadata": {
      "needs_background": "light"
     },
     "output_type": "display_data"
    }
   ],
   "source": [
    "df = pd.DataFrame(H.history)\n",
    "df.index += 1\n",
    "fig = plt.figure(figsize = (20,5))\n",
    "fig.suptitle('Validation metrics')\n",
    "ax1 = fig.add_subplot(121)\n",
    "ax2 = fig.add_subplot(122)\n",
    "ax1.set_xticks(range(len(df)+1))\n",
    "ax2.set_xticks(range(len(df)+1))\n",
    "df[['loss', 'val_loss']].plot(title=\"Cross Entropy\", grid=True, ax=ax1)\n",
    "df[['accuracy', 'val_accuracy']].plot(title=\"Accuracy\",grid=True, ax=ax2)\n",
    "plt.show()"
   ]
  },
  {
   "cell_type": "markdown",
   "id": "20ec2b54",
   "metadata": {
    "papermill": {
     "duration": 0.587043,
     "end_time": "2022-03-24T08:54:25.226133",
     "exception": false,
     "start_time": "2022-03-24T08:54:24.639090",
     "status": "completed"
    },
    "tags": []
   },
   "source": [
    "#### Model serialization"
   ]
  },
  {
   "cell_type": "code",
   "execution_count": 11,
   "id": "7d330df9",
   "metadata": {
    "execution": {
     "iopub.execute_input": "2022-03-24T08:54:26.396633Z",
     "iopub.status.busy": "2022-03-24T08:54:26.394592Z",
     "iopub.status.idle": "2022-03-24T08:54:26.429763Z",
     "shell.execute_reply": "2022-03-24T08:54:26.429301Z",
     "shell.execute_reply.started": "2022-03-24T08:17:59.237466Z"
    },
    "papermill": {
     "duration": 0.6137,
     "end_time": "2022-03-24T08:54:26.429892",
     "exception": false,
     "start_time": "2022-03-24T08:54:25.816192",
     "status": "completed"
    },
    "tags": []
   },
   "outputs": [],
   "source": [
    "model.save('model.h5', save_format='h5')"
   ]
  },
  {
   "cell_type": "markdown",
   "id": "8f0fa76e",
   "metadata": {
    "papermill": {
     "duration": 0.572071,
     "end_time": "2022-03-24T08:54:27.574159",
     "exception": false,
     "start_time": "2022-03-24T08:54:27.002088",
     "status": "completed"
    },
    "tags": []
   },
   "source": [
    "#### Predictions"
   ]
  },
  {
   "cell_type": "code",
   "execution_count": 12,
   "id": "6d5852fb",
   "metadata": {
    "execution": {
     "iopub.execute_input": "2022-03-24T08:54:28.742539Z",
     "iopub.status.busy": "2022-03-24T08:54:28.741590Z",
     "iopub.status.idle": "2022-03-24T08:54:30.470119Z",
     "shell.execute_reply": "2022-03-24T08:54:30.470789Z",
     "shell.execute_reply.started": "2022-03-24T08:30:03.008951Z"
    },
    "papermill": {
     "duration": 2.325539,
     "end_time": "2022-03-24T08:54:30.470968",
     "exception": false,
     "start_time": "2022-03-24T08:54:28.145429",
     "status": "completed"
    },
    "tags": []
   },
   "outputs": [
    {
     "data": {
      "text/html": [
       "<div>\n",
       "<style scoped>\n",
       "    .dataframe tbody tr th:only-of-type {\n",
       "        vertical-align: middle;\n",
       "    }\n",
       "\n",
       "    .dataframe tbody tr th {\n",
       "        vertical-align: top;\n",
       "    }\n",
       "\n",
       "    .dataframe thead th {\n",
       "        text-align: right;\n",
       "    }\n",
       "</style>\n",
       "<table border=\"1\" class=\"dataframe\">\n",
       "  <thead>\n",
       "    <tr style=\"text-align: right;\">\n",
       "      <th></th>\n",
       "      <th>ImageId</th>\n",
       "      <th>Label</th>\n",
       "    </tr>\n",
       "  </thead>\n",
       "  <tbody>\n",
       "    <tr>\n",
       "      <th>0</th>\n",
       "      <td>1</td>\n",
       "      <td>2</td>\n",
       "    </tr>\n",
       "    <tr>\n",
       "      <th>1</th>\n",
       "      <td>2</td>\n",
       "      <td>0</td>\n",
       "    </tr>\n",
       "    <tr>\n",
       "      <th>2</th>\n",
       "      <td>3</td>\n",
       "      <td>9</td>\n",
       "    </tr>\n",
       "    <tr>\n",
       "      <th>3</th>\n",
       "      <td>4</td>\n",
       "      <td>9</td>\n",
       "    </tr>\n",
       "    <tr>\n",
       "      <th>4</th>\n",
       "      <td>5</td>\n",
       "      <td>3</td>\n",
       "    </tr>\n",
       "  </tbody>\n",
       "</table>\n",
       "</div>"
      ],
      "text/plain": [
       "   ImageId  Label\n",
       "0        1      2\n",
       "1        2      0\n",
       "2        3      9\n",
       "3        4      9\n",
       "4        5      3"
      ]
     },
     "execution_count": 12,
     "metadata": {},
     "output_type": "execute_result"
    }
   ],
   "source": [
    "pred = model.predict(test_X)\n",
    "classes = pred.argmax(axis=-1)\n",
    "\n",
    "sub = pd.read_csv('../input/digit-recognizer/sample_submission.csv')\n",
    "sub.Label = classes\n",
    "sub.head()"
   ]
  },
  {
   "cell_type": "markdown",
   "id": "ff8df546",
   "metadata": {
    "papermill": {
     "duration": 0.774024,
     "end_time": "2022-03-24T08:54:31.872477",
     "exception": false,
     "start_time": "2022-03-24T08:54:31.098453",
     "status": "completed"
    },
    "tags": []
   },
   "source": [
    " #### Submission"
   ]
  },
  {
   "cell_type": "code",
   "execution_count": 13,
   "id": "54586d9b",
   "metadata": {
    "execution": {
     "iopub.execute_input": "2022-03-24T08:54:33.029830Z",
     "iopub.status.busy": "2022-03-24T08:54:33.028968Z",
     "iopub.status.idle": "2022-03-24T08:54:33.072239Z",
     "shell.execute_reply": "2022-03-24T08:54:33.071769Z",
     "shell.execute_reply.started": "2022-03-24T08:30:31.392935Z"
    },
    "papermill": {
     "duration": 0.618847,
     "end_time": "2022-03-24T08:54:33.072360",
     "exception": false,
     "start_time": "2022-03-24T08:54:32.453513",
     "status": "completed"
    },
    "tags": []
   },
   "outputs": [],
   "source": [
    "sub.to_csv('submission.csv', index = False)"
   ]
  },
  {
   "cell_type": "markdown",
   "id": "289f47d9",
   "metadata": {
    "papermill": {
     "duration": 0.602617,
     "end_time": "2022-03-24T08:54:34.309169",
     "exception": false,
     "start_time": "2022-03-24T08:54:33.706552",
     "status": "completed"
    },
    "tags": []
   },
   "source": [
    "CNN part of the model was taken from [**KASSEM Notebook**](https://www.kaggle.com/code/elcaiseri/mnist-simple-cnn-keras-accuracy-0-99-top-1/notebook)"
   ]
  }
 ],
 "metadata": {
  "kernelspec": {
   "display_name": "Python 3",
   "language": "python",
   "name": "python3"
  },
  "language_info": {
   "codemirror_mode": {
    "name": "ipython",
    "version": 3
   },
   "file_extension": ".py",
   "mimetype": "text/x-python",
   "name": "python",
   "nbconvert_exporter": "python",
   "pygments_lexer": "ipython3",
   "version": "3.7.12"
  },
  "papermill": {
   "default_parameters": {},
   "duration": 181.706203,
   "end_time": "2022-03-24T08:54:37.694189",
   "environment_variables": {},
   "exception": null,
   "input_path": "__notebook__.ipynb",
   "output_path": "__notebook__.ipynb",
   "parameters": {},
   "start_time": "2022-03-24T08:51:35.987986",
   "version": "2.3.3"
  }
 },
 "nbformat": 4,
 "nbformat_minor": 5
}
